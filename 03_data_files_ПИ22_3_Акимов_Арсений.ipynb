{
  "cells": [
    {
      "cell_type": "code",
      "execution_count": null,
      "id": "e066b361",
      "metadata": {
        "id": "e066b361"
      },
      "outputs": [],
      "source": [
        "import json\n",
        "import pickle\n",
        "import pandas as pd\n",
        "import os"
      ]
    },
    {
      "cell_type": "markdown",
      "id": "a3cf6948",
      "metadata": {
        "id": "a3cf6948"
      },
      "source": [
        "JSON\n",
        "1.1 Считайте файл contributors_short.json. Воспользовавшись модулем json, преобразуйте содержимое файла в соответствующие объекты python. Выведите на экран информацию о первых 3 пользователях.\n"
      ]
    },
    {
      "cell_type": "code",
      "execution_count": null,
      "id": "2a288ff1",
      "metadata": {
        "id": "2a288ff1"
      },
      "outputs": [],
      "source": [
        "with open(\"contributors_sample.json\", \"r\") as read_file:\n",
        "    data = json.load(read_file)"
      ]
    },
    {
      "cell_type": "code",
      "execution_count": null,
      "id": "cbafbd1c",
      "metadata": {
        "id": "cbafbd1c",
        "outputId": "4bdc18e7-93aa-492b-b34b-09aa9066c406"
      },
      "outputs": [
        {
          "data": {
            "text/plain": [
              "[{'username': 'uhebert',\n",
              "  'name': 'Lindsey Nguyen',\n",
              "  'sex': 'F',\n",
              "  'address': '01261 Cameron Spring\\nTaylorfurt, AK 97791',\n",
              "  'mail': 'jsalazar@gmail.com',\n",
              "  'jobs': ['Energy engineer',\n",
              "   'Engineer, site',\n",
              "   'Environmental health practitioner',\n",
              "   'Biomedical scientist',\n",
              "   'Jewellery designer'],\n",
              "  'id': 35193},\n",
              " {'username': 'vickitaylor',\n",
              "  'name': 'Cheryl Lewis',\n",
              "  'sex': 'F',\n",
              "  'address': '66992 Welch Brooks\\nMarshallshire, ID 56004',\n",
              "  'mail': 'bhudson@gmail.com',\n",
              "  'jobs': ['Music therapist',\n",
              "   'Volunteer coordinator',\n",
              "   'Designer, interior/spatial'],\n",
              "  'id': 91970},\n",
              " {'username': 'sheilaadams',\n",
              "  'name': 'Julia Allen',\n",
              "  'sex': 'F',\n",
              "  'address': 'Unit 1632 Box 2971\\nDPO AE 23297',\n",
              "  'mail': 'darren44@yahoo.com',\n",
              "  'jobs': ['Management consultant',\n",
              "   'Engineer, structural',\n",
              "   'Lecturer, higher education',\n",
              "   'Theatre manager',\n",
              "   'Designer, textile'],\n",
              "  'id': 1848091}]"
            ]
          },
          "execution_count": 5,
          "metadata": {},
          "output_type": "execute_result"
        }
      ],
      "source": [
        "data[:3]"
      ]
    },
    {
      "cell_type": "markdown",
      "id": "e89212ba",
      "metadata": {
        "id": "e89212ba"
      },
      "source": [
        "1.2 Выведите уникальные почтовые домены, содержащиеся в почтовых адресах людей\n"
      ]
    },
    {
      "cell_type": "code",
      "execution_count": null,
      "id": "175b5bc4",
      "metadata": {
        "id": "175b5bc4",
        "outputId": "44c6c3a4-fe50-4a84-afed-025925dbe5a9"
      },
      "outputs": [
        {
          "data": {
            "text/plain": [
              "{'gmail.com', 'hotmail.com', 'yahoo.com'}"
            ]
          },
          "execution_count": 6,
          "metadata": {},
          "output_type": "execute_result"
        }
      ],
      "source": [
        "mail_domens = set()\n",
        "for people in data:\n",
        "    mail = people['mail']\n",
        "    domen = mail.split('@')[1]\n",
        "    mail_domens.add(domen)\n",
        "mail_domens"
      ]
    },
    {
      "cell_type": "markdown",
      "id": "29170f9f",
      "metadata": {
        "id": "29170f9f"
      },
      "source": [
        "1.3 Написать функцию, которая по username ищет человека и выводит информацию о нем. Если пользователь отсутствует, возбудите исключение ValueError\n"
      ]
    },
    {
      "cell_type": "code",
      "execution_count": null,
      "id": "b1c175e7",
      "metadata": {
        "id": "b1c175e7",
        "outputId": "fee6586a-d3cc-4521-f25c-bbb8e97db422"
      },
      "outputs": [
        {
          "data": {
            "text/plain": [
              "[{'username': 'sheilaadams',\n",
              "  'name': 'Julia Allen',\n",
              "  'sex': 'F',\n",
              "  'address': 'Unit 1632 Box 2971\\nDPO AE 23297',\n",
              "  'mail': 'darren44@yahoo.com',\n",
              "  'jobs': ['Management consultant',\n",
              "   'Engineer, structural',\n",
              "   'Lecturer, higher education',\n",
              "   'Theatre manager',\n",
              "   'Designer, textile'],\n",
              "  'id': 1848091}]"
            ]
          },
          "execution_count": 15,
          "metadata": {},
          "output_type": "execute_result"
        }
      ],
      "source": [
        "def find_by_username(data, username):\n",
        "    answ = []\n",
        "    for people in data:\n",
        "        if people['username'] == username:\n",
        "            answ.append(people)\n",
        "    if len(answ) == 0:\n",
        "        raise Exception(ValueError('Человек с таким username не найден'))\n",
        "    else:\n",
        "        return answ\n",
        "\n",
        "find_by_username(data, 'sheilaadams')"
      ]
    },
    {
      "cell_type": "markdown",
      "id": "cddb6dff",
      "metadata": {
        "id": "cddb6dff"
      },
      "source": [
        "1.4 Посчитать, сколько мужчин и женщин присутсвует в этом наборе\n"
      ]
    },
    {
      "cell_type": "code",
      "execution_count": null,
      "id": "d3dd7ce3",
      "metadata": {
        "id": "d3dd7ce3",
        "outputId": "27cbcfca-9cc3-4e33-f0db-e334547788e5"
      },
      "outputs": [
        {
          "data": {
            "text/plain": [
              "(2064, 2136)"
            ]
          },
          "execution_count": 22,
          "metadata": {},
          "output_type": "execute_result"
        }
      ],
      "source": [
        "male, female = 0, 0\n",
        "for people in data:\n",
        "    if people['sex'] == 'M':\n",
        "        male += 1\n",
        "    elif people['sex'] == 'F':\n",
        "        female += 1\n",
        "male, female"
      ]
    },
    {
      "cell_type": "markdown",
      "id": "262ab34e",
      "metadata": {
        "id": "262ab34e"
      },
      "source": [
        "1.5 Создайте pd.DataFrame contributors, имеющий столбцы id, username и sex.\n"
      ]
    },
    {
      "cell_type": "code",
      "execution_count": null,
      "id": "e551f8f0",
      "metadata": {
        "id": "e551f8f0",
        "outputId": "f55c4138-1ce8-4f87-a29f-4131a4c824fd"
      },
      "outputs": [
        {
          "data": {
            "text/html": [
              "<div>\n",
              "<style scoped>\n",
              "    .dataframe tbody tr th:only-of-type {\n",
              "        vertical-align: middle;\n",
              "    }\n",
              "\n",
              "    .dataframe tbody tr th {\n",
              "        vertical-align: top;\n",
              "    }\n",
              "\n",
              "    .dataframe thead th {\n",
              "        text-align: right;\n",
              "    }\n",
              "</style>\n",
              "<table border=\"1\" class=\"dataframe\">\n",
              "  <thead>\n",
              "    <tr style=\"text-align: right;\">\n",
              "      <th></th>\n",
              "      <th>id</th>\n",
              "      <th>username</th>\n",
              "      <th>sex</th>\n",
              "    </tr>\n",
              "  </thead>\n",
              "  <tbody>\n",
              "    <tr>\n",
              "      <th>0</th>\n",
              "      <td>35193</td>\n",
              "      <td>uhebert</td>\n",
              "      <td>F</td>\n",
              "    </tr>\n",
              "    <tr>\n",
              "      <th>1</th>\n",
              "      <td>91970</td>\n",
              "      <td>vickitaylor</td>\n",
              "      <td>F</td>\n",
              "    </tr>\n",
              "    <tr>\n",
              "      <th>2</th>\n",
              "      <td>1848091</td>\n",
              "      <td>sheilaadams</td>\n",
              "      <td>F</td>\n",
              "    </tr>\n",
              "    <tr>\n",
              "      <th>3</th>\n",
              "      <td>50969</td>\n",
              "      <td>nicole82</td>\n",
              "      <td>F</td>\n",
              "    </tr>\n",
              "    <tr>\n",
              "      <th>4</th>\n",
              "      <td>676820</td>\n",
              "      <td>jean67</td>\n",
              "      <td>M</td>\n",
              "    </tr>\n",
              "    <tr>\n",
              "      <th>...</th>\n",
              "      <td>...</td>\n",
              "      <td>...</td>\n",
              "      <td>...</td>\n",
              "    </tr>\n",
              "    <tr>\n",
              "      <th>4195</th>\n",
              "      <td>423555</td>\n",
              "      <td>stevenspencer</td>\n",
              "      <td>F</td>\n",
              "    </tr>\n",
              "    <tr>\n",
              "      <th>4196</th>\n",
              "      <td>35251</td>\n",
              "      <td>rwilliams</td>\n",
              "      <td>M</td>\n",
              "    </tr>\n",
              "    <tr>\n",
              "      <th>4197</th>\n",
              "      <td>135887</td>\n",
              "      <td>lmartinez</td>\n",
              "      <td>F</td>\n",
              "    </tr>\n",
              "    <tr>\n",
              "      <th>4198</th>\n",
              "      <td>212714</td>\n",
              "      <td>brendahill</td>\n",
              "      <td>M</td>\n",
              "    </tr>\n",
              "    <tr>\n",
              "      <th>4199</th>\n",
              "      <td>344321</td>\n",
              "      <td>mistyray</td>\n",
              "      <td>F</td>\n",
              "    </tr>\n",
              "  </tbody>\n",
              "</table>\n",
              "<p>4200 rows × 3 columns</p>\n",
              "</div>"
            ],
            "text/plain": [
              "           id       username sex\n",
              "0       35193        uhebert   F\n",
              "1       91970    vickitaylor   F\n",
              "2     1848091    sheilaadams   F\n",
              "3       50969       nicole82   F\n",
              "4      676820         jean67   M\n",
              "...       ...            ...  ..\n",
              "4195   423555  stevenspencer   F\n",
              "4196    35251      rwilliams   M\n",
              "4197   135887      lmartinez   F\n",
              "4198   212714     brendahill   M\n",
              "4199   344321       mistyray   F\n",
              "\n",
              "[4200 rows x 3 columns]"
            ]
          },
          "execution_count": 26,
          "metadata": {},
          "output_type": "execute_result"
        }
      ],
      "source": [
        "contributors = pd.DataFrame(data)[['id', 'username', 'sex']]\n",
        "contributors"
      ]
    },
    {
      "cell_type": "markdown",
      "id": "2d976e42",
      "metadata": {
        "id": "2d976e42"
      },
      "source": [
        "1.6 Загрузите данные из файла recipes_short.csv в таблицу recipes. Объедините recipes с таблицей contributors с сохранением строк в том случае, если информация о человеке отсутствует в JSON-файле. Для скольких человек информация отсутствует?\n",
        "\n"
      ]
    },
    {
      "cell_type": "code",
      "execution_count": null,
      "id": "2bb7c372",
      "metadata": {
        "id": "2bb7c372",
        "outputId": "8a91154a-75e0-47c1-e2e3-fc55dd472bb8"
      },
      "outputs": [
        {
          "data": {
            "text/html": [
              "<div>\n",
              "<style scoped>\n",
              "    .dataframe tbody tr th:only-of-type {\n",
              "        vertical-align: middle;\n",
              "    }\n",
              "\n",
              "    .dataframe tbody tr th {\n",
              "        vertical-align: top;\n",
              "    }\n",
              "\n",
              "    .dataframe thead th {\n",
              "        text-align: right;\n",
              "    }\n",
              "</style>\n",
              "<table border=\"1\" class=\"dataframe\">\n",
              "  <thead>\n",
              "    <tr style=\"text-align: right;\">\n",
              "      <th></th>\n",
              "      <th>name</th>\n",
              "      <th>id</th>\n",
              "      <th>minutes</th>\n",
              "      <th>contributor_id</th>\n",
              "      <th>submitted</th>\n",
              "      <th>n_steps</th>\n",
              "      <th>description</th>\n",
              "      <th>n_ingredients</th>\n",
              "    </tr>\n",
              "  </thead>\n",
              "  <tbody>\n",
              "    <tr>\n",
              "      <th>0</th>\n",
              "      <td>george s at the cove  black bean soup</td>\n",
              "      <td>44123</td>\n",
              "      <td>90</td>\n",
              "      <td>35193</td>\n",
              "      <td>2002-10-25</td>\n",
              "      <td>NaN</td>\n",
              "      <td>an original recipe created by chef scott meska...</td>\n",
              "      <td>18.0</td>\n",
              "    </tr>\n",
              "    <tr>\n",
              "      <th>1</th>\n",
              "      <td>healthy for them  yogurt popsicles</td>\n",
              "      <td>67664</td>\n",
              "      <td>10</td>\n",
              "      <td>91970</td>\n",
              "      <td>2003-07-26</td>\n",
              "      <td>NaN</td>\n",
              "      <td>my children and their friends ask for my homem...</td>\n",
              "      <td>NaN</td>\n",
              "    </tr>\n",
              "    <tr>\n",
              "      <th>2</th>\n",
              "      <td>i can t believe it s spinach</td>\n",
              "      <td>38798</td>\n",
              "      <td>30</td>\n",
              "      <td>1533</td>\n",
              "      <td>2002-08-29</td>\n",
              "      <td>NaN</td>\n",
              "      <td>these were so go, it surprised even me.</td>\n",
              "      <td>8.0</td>\n",
              "    </tr>\n",
              "    <tr>\n",
              "      <th>3</th>\n",
              "      <td>italian  gut busters</td>\n",
              "      <td>35173</td>\n",
              "      <td>45</td>\n",
              "      <td>22724</td>\n",
              "      <td>2002-07-27</td>\n",
              "      <td>NaN</td>\n",
              "      <td>my sister-in-law made these for us at a family...</td>\n",
              "      <td>NaN</td>\n",
              "    </tr>\n",
              "    <tr>\n",
              "      <th>4</th>\n",
              "      <td>love is in the air  beef fondue   sauces</td>\n",
              "      <td>84797</td>\n",
              "      <td>25</td>\n",
              "      <td>4470</td>\n",
              "      <td>2004-02-23</td>\n",
              "      <td>4.0</td>\n",
              "      <td>i think a fondue is a very romantic casual din...</td>\n",
              "      <td>NaN</td>\n",
              "    </tr>\n",
              "    <tr>\n",
              "      <th>...</th>\n",
              "      <td>...</td>\n",
              "      <td>...</td>\n",
              "      <td>...</td>\n",
              "      <td>...</td>\n",
              "      <td>...</td>\n",
              "      <td>...</td>\n",
              "      <td>...</td>\n",
              "      <td>...</td>\n",
              "    </tr>\n",
              "    <tr>\n",
              "      <th>29995</th>\n",
              "      <td>zurie s holey rustic olive and cheddar bread</td>\n",
              "      <td>267661</td>\n",
              "      <td>80</td>\n",
              "      <td>200862</td>\n",
              "      <td>2007-11-25</td>\n",
              "      <td>16.0</td>\n",
              "      <td>this is based on a french recipe but i changed...</td>\n",
              "      <td>10.0</td>\n",
              "    </tr>\n",
              "    <tr>\n",
              "      <th>29996</th>\n",
              "      <td>zwetschgenkuchen  bavarian plum cake</td>\n",
              "      <td>386977</td>\n",
              "      <td>240</td>\n",
              "      <td>177443</td>\n",
              "      <td>2009-08-24</td>\n",
              "      <td>NaN</td>\n",
              "      <td>this is a traditional fresh plum cake, thought...</td>\n",
              "      <td>11.0</td>\n",
              "    </tr>\n",
              "    <tr>\n",
              "      <th>29997</th>\n",
              "      <td>zwiebelkuchen   southwest german onion cake</td>\n",
              "      <td>103312</td>\n",
              "      <td>75</td>\n",
              "      <td>161745</td>\n",
              "      <td>2004-11-03</td>\n",
              "      <td>NaN</td>\n",
              "      <td>this is a traditional late summer early fall s...</td>\n",
              "      <td>NaN</td>\n",
              "    </tr>\n",
              "    <tr>\n",
              "      <th>29998</th>\n",
              "      <td>zydeco soup</td>\n",
              "      <td>486161</td>\n",
              "      <td>60</td>\n",
              "      <td>227978</td>\n",
              "      <td>2012-08-29</td>\n",
              "      <td>NaN</td>\n",
              "      <td>this is a delicious soup that i originally fou...</td>\n",
              "      <td>NaN</td>\n",
              "    </tr>\n",
              "    <tr>\n",
              "      <th>29999</th>\n",
              "      <td>cookies by design   cookies on a stick</td>\n",
              "      <td>298512</td>\n",
              "      <td>29</td>\n",
              "      <td>506822</td>\n",
              "      <td>2008-04-15</td>\n",
              "      <td>9.0</td>\n",
              "      <td>i've heard of the 'cookies by design' company,...</td>\n",
              "      <td>10.0</td>\n",
              "    </tr>\n",
              "  </tbody>\n",
              "</table>\n",
              "<p>30000 rows × 8 columns</p>\n",
              "</div>"
            ],
            "text/plain": [
              "                                               name      id  minutes  \\\n",
              "0             george s at the cove  black bean soup   44123       90   \n",
              "1                healthy for them  yogurt popsicles   67664       10   \n",
              "2                      i can t believe it s spinach   38798       30   \n",
              "3                              italian  gut busters   35173       45   \n",
              "4          love is in the air  beef fondue   sauces   84797       25   \n",
              "...                                             ...     ...      ...   \n",
              "29995  zurie s holey rustic olive and cheddar bread  267661       80   \n",
              "29996          zwetschgenkuchen  bavarian plum cake  386977      240   \n",
              "29997   zwiebelkuchen   southwest german onion cake  103312       75   \n",
              "29998                                   zydeco soup  486161       60   \n",
              "29999        cookies by design   cookies on a stick  298512       29   \n",
              "\n",
              "       contributor_id  submitted  n_steps  \\\n",
              "0               35193 2002-10-25      NaN   \n",
              "1               91970 2003-07-26      NaN   \n",
              "2                1533 2002-08-29      NaN   \n",
              "3               22724 2002-07-27      NaN   \n",
              "4                4470 2004-02-23      4.0   \n",
              "...               ...        ...      ...   \n",
              "29995          200862 2007-11-25     16.0   \n",
              "29996          177443 2009-08-24      NaN   \n",
              "29997          161745 2004-11-03      NaN   \n",
              "29998          227978 2012-08-29      NaN   \n",
              "29999          506822 2008-04-15      9.0   \n",
              "\n",
              "                                             description  n_ingredients  \n",
              "0      an original recipe created by chef scott meska...           18.0  \n",
              "1      my children and their friends ask for my homem...            NaN  \n",
              "2                these were so go, it surprised even me.            8.0  \n",
              "3      my sister-in-law made these for us at a family...            NaN  \n",
              "4      i think a fondue is a very romantic casual din...            NaN  \n",
              "...                                                  ...            ...  \n",
              "29995  this is based on a french recipe but i changed...           10.0  \n",
              "29996  this is a traditional fresh plum cake, thought...           11.0  \n",
              "29997  this is a traditional late summer early fall s...            NaN  \n",
              "29998  this is a delicious soup that i originally fou...            NaN  \n",
              "29999  i've heard of the 'cookies by design' company,...           10.0  \n",
              "\n",
              "[30000 rows x 8 columns]"
            ]
          },
          "execution_count": 27,
          "metadata": {},
          "output_type": "execute_result"
        }
      ],
      "source": [
        "recipes = pd.read_csv('recipes_sample.csv', parse_dates=[4])\n",
        "recipes"
      ]
    },
    {
      "cell_type": "code",
      "execution_count": null,
      "id": "f90a8a5a",
      "metadata": {
        "id": "f90a8a5a",
        "outputId": "c1594c05-8c1e-4bce-8812-85198c4b4458"
      },
      "outputs": [
        {
          "data": {
            "text/html": [
              "<div>\n",
              "<style scoped>\n",
              "    .dataframe tbody tr th:only-of-type {\n",
              "        vertical-align: middle;\n",
              "    }\n",
              "\n",
              "    .dataframe tbody tr th {\n",
              "        vertical-align: top;\n",
              "    }\n",
              "\n",
              "    .dataframe thead th {\n",
              "        text-align: right;\n",
              "    }\n",
              "</style>\n",
              "<table border=\"1\" class=\"dataframe\">\n",
              "  <thead>\n",
              "    <tr style=\"text-align: right;\">\n",
              "      <th></th>\n",
              "      <th>name</th>\n",
              "      <th>id_x</th>\n",
              "      <th>minutes</th>\n",
              "      <th>contributor_id</th>\n",
              "      <th>submitted</th>\n",
              "      <th>n_steps</th>\n",
              "      <th>description</th>\n",
              "      <th>n_ingredients</th>\n",
              "      <th>id_y</th>\n",
              "      <th>username</th>\n",
              "      <th>sex</th>\n",
              "    </tr>\n",
              "  </thead>\n",
              "  <tbody>\n",
              "    <tr>\n",
              "      <th>0</th>\n",
              "      <td>george s at the cove  black bean soup</td>\n",
              "      <td>44123</td>\n",
              "      <td>90</td>\n",
              "      <td>35193</td>\n",
              "      <td>2002-10-25</td>\n",
              "      <td>NaN</td>\n",
              "      <td>an original recipe created by chef scott meska...</td>\n",
              "      <td>18.0</td>\n",
              "      <td>35193</td>\n",
              "      <td>uhebert</td>\n",
              "      <td>F</td>\n",
              "    </tr>\n",
              "    <tr>\n",
              "      <th>1</th>\n",
              "      <td>allegedly original cobb salad dressing</td>\n",
              "      <td>39189</td>\n",
              "      <td>5</td>\n",
              "      <td>35193</td>\n",
              "      <td>2002-09-03</td>\n",
              "      <td>3.0</td>\n",
              "      <td>avocado, tomato, thick bacon slices crumbled, ...</td>\n",
              "      <td>8.0</td>\n",
              "      <td>35193</td>\n",
              "      <td>uhebert</td>\n",
              "      <td>F</td>\n",
              "    </tr>\n",
              "    <tr>\n",
              "      <th>2</th>\n",
              "      <td>basic cake  gluten free</td>\n",
              "      <td>52100</td>\n",
              "      <td>55</td>\n",
              "      <td>35193</td>\n",
              "      <td>2003-01-24</td>\n",
              "      <td>NaN</td>\n",
              "      <td>a basic cake recipe adapted from carol fenster...</td>\n",
              "      <td>14.0</td>\n",
              "      <td>35193</td>\n",
              "      <td>uhebert</td>\n",
              "      <td>F</td>\n",
              "    </tr>\n",
              "    <tr>\n",
              "      <th>3</th>\n",
              "      <td>basil garlic butter</td>\n",
              "      <td>32311</td>\n",
              "      <td>15</td>\n",
              "      <td>35193</td>\n",
              "      <td>2002-06-26</td>\n",
              "      <td>6.0</td>\n",
              "      <td>wonderful to have on hand!</td>\n",
              "      <td>NaN</td>\n",
              "      <td>35193</td>\n",
              "      <td>uhebert</td>\n",
              "      <td>F</td>\n",
              "    </tr>\n",
              "    <tr>\n",
              "      <th>4</th>\n",
              "      <td>beer marinated shrimp</td>\n",
              "      <td>36315</td>\n",
              "      <td>125</td>\n",
              "      <td>35193</td>\n",
              "      <td>2002-08-05</td>\n",
              "      <td>NaN</td>\n",
              "      <td>this is best made ahead and is great during th...</td>\n",
              "      <td>7.0</td>\n",
              "      <td>35193</td>\n",
              "      <td>uhebert</td>\n",
              "      <td>F</td>\n",
              "    </tr>\n",
              "    <tr>\n",
              "      <th>...</th>\n",
              "      <td>...</td>\n",
              "      <td>...</td>\n",
              "      <td>...</td>\n",
              "      <td>...</td>\n",
              "      <td>...</td>\n",
              "      <td>...</td>\n",
              "      <td>...</td>\n",
              "      <td>...</td>\n",
              "      <td>...</td>\n",
              "      <td>...</td>\n",
              "      <td>...</td>\n",
              "    </tr>\n",
              "    <tr>\n",
              "      <th>14936</th>\n",
              "      <td>zucchini and noodle slice</td>\n",
              "      <td>412518</td>\n",
              "      <td>60</td>\n",
              "      <td>423555</td>\n",
              "      <td>2010-02-10</td>\n",
              "      <td>21.0</td>\n",
              "      <td>a yummy, tasty slice packed with vegies and ri...</td>\n",
              "      <td>13.0</td>\n",
              "      <td>423555</td>\n",
              "      <td>stevenspencer</td>\n",
              "      <td>F</td>\n",
              "    </tr>\n",
              "    <tr>\n",
              "      <th>14937</th>\n",
              "      <td>zucchini asiago pancakes</td>\n",
              "      <td>387844</td>\n",
              "      <td>20</td>\n",
              "      <td>35251</td>\n",
              "      <td>2009-08-31</td>\n",
              "      <td>9.0</td>\n",
              "      <td>a great way to get your veggies in and a delic...</td>\n",
              "      <td>NaN</td>\n",
              "      <td>35251</td>\n",
              "      <td>rwilliams</td>\n",
              "      <td>M</td>\n",
              "    </tr>\n",
              "    <tr>\n",
              "      <th>14938</th>\n",
              "      <td>zucchini carrot cupcakes</td>\n",
              "      <td>468621</td>\n",
              "      <td>30</td>\n",
              "      <td>135887</td>\n",
              "      <td>2011-11-21</td>\n",
              "      <td>NaN</td>\n",
              "      <td>moist and healthy cupcake.  delicious with or ...</td>\n",
              "      <td>14.0</td>\n",
              "      <td>135887</td>\n",
              "      <td>lmartinez</td>\n",
              "      <td>F</td>\n",
              "    </tr>\n",
              "    <tr>\n",
              "      <th>14939</th>\n",
              "      <td>zucchini lemon bread</td>\n",
              "      <td>120742</td>\n",
              "      <td>90</td>\n",
              "      <td>212714</td>\n",
              "      <td>2005-05-05</td>\n",
              "      <td>11.0</td>\n",
              "      <td>this recipe is from governor william j. janklo...</td>\n",
              "      <td>NaN</td>\n",
              "      <td>212714</td>\n",
              "      <td>brendahill</td>\n",
              "      <td>M</td>\n",
              "    </tr>\n",
              "    <tr>\n",
              "      <th>14940</th>\n",
              "      <td>zucchini with bell pepper and tomato</td>\n",
              "      <td>363362</td>\n",
              "      <td>13</td>\n",
              "      <td>344321</td>\n",
              "      <td>2009-03-29</td>\n",
              "      <td>19.0</td>\n",
              "      <td>the weather has been turning warmer and i have...</td>\n",
              "      <td>8.0</td>\n",
              "      <td>344321</td>\n",
              "      <td>mistyray</td>\n",
              "      <td>F</td>\n",
              "    </tr>\n",
              "  </tbody>\n",
              "</table>\n",
              "<p>14941 rows × 11 columns</p>\n",
              "</div>"
            ],
            "text/plain": [
              "                                         name    id_x  minutes  \\\n",
              "0       george s at the cove  black bean soup   44123       90   \n",
              "1      allegedly original cobb salad dressing   39189        5   \n",
              "2                     basic cake  gluten free   52100       55   \n",
              "3                         basil garlic butter   32311       15   \n",
              "4                       beer marinated shrimp   36315      125   \n",
              "...                                       ...     ...      ...   \n",
              "14936               zucchini and noodle slice  412518       60   \n",
              "14937                zucchini asiago pancakes  387844       20   \n",
              "14938                zucchini carrot cupcakes  468621       30   \n",
              "14939                    zucchini lemon bread  120742       90   \n",
              "14940    zucchini with bell pepper and tomato  363362       13   \n",
              "\n",
              "       contributor_id  submitted  n_steps  \\\n",
              "0               35193 2002-10-25      NaN   \n",
              "1               35193 2002-09-03      3.0   \n",
              "2               35193 2003-01-24      NaN   \n",
              "3               35193 2002-06-26      6.0   \n",
              "4               35193 2002-08-05      NaN   \n",
              "...               ...        ...      ...   \n",
              "14936          423555 2010-02-10     21.0   \n",
              "14937           35251 2009-08-31      9.0   \n",
              "14938          135887 2011-11-21      NaN   \n",
              "14939          212714 2005-05-05     11.0   \n",
              "14940          344321 2009-03-29     19.0   \n",
              "\n",
              "                                             description  n_ingredients  \\\n",
              "0      an original recipe created by chef scott meska...           18.0   \n",
              "1      avocado, tomato, thick bacon slices crumbled, ...            8.0   \n",
              "2      a basic cake recipe adapted from carol fenster...           14.0   \n",
              "3                             wonderful to have on hand!            NaN   \n",
              "4      this is best made ahead and is great during th...            7.0   \n",
              "...                                                  ...            ...   \n",
              "14936  a yummy, tasty slice packed with vegies and ri...           13.0   \n",
              "14937  a great way to get your veggies in and a delic...            NaN   \n",
              "14938  moist and healthy cupcake.  delicious with or ...           14.0   \n",
              "14939  this recipe is from governor william j. janklo...            NaN   \n",
              "14940  the weather has been turning warmer and i have...            8.0   \n",
              "\n",
              "         id_y       username sex  \n",
              "0       35193        uhebert   F  \n",
              "1       35193        uhebert   F  \n",
              "2       35193        uhebert   F  \n",
              "3       35193        uhebert   F  \n",
              "4       35193        uhebert   F  \n",
              "...       ...            ...  ..  \n",
              "14936  423555  stevenspencer   F  \n",
              "14937   35251      rwilliams   M  \n",
              "14938  135887      lmartinez   F  \n",
              "14939  212714     brendahill   M  \n",
              "14940  344321       mistyray   F  \n",
              "\n",
              "[14941 rows x 11 columns]"
            ]
          },
          "execution_count": 28,
          "metadata": {},
          "output_type": "execute_result"
        }
      ],
      "source": [
        "table = pd.merge(recipes, contributors, left_on='contributor_id', right_on='id')\n",
        "table"
      ]
    },
    {
      "cell_type": "markdown",
      "id": "f4bf3630",
      "metadata": {
        "id": "f4bf3630"
      },
      "source": [
        "pickle\n",
        "2.1 На основе файла contributors_short.json создайте словарь следующего вида:\n",
        "\n",
        "{\n",
        "    должность: [список username людей, занимавших эту должность]\n",
        "}\n",
        "\n"
      ]
    },
    {
      "cell_type": "code",
      "execution_count": null,
      "id": "e67001b3",
      "metadata": {
        "id": "e67001b3"
      },
      "outputs": [],
      "source": [
        "jobs = []\n",
        "for people in data:\n",
        "    jobs.extend(people['jobs'])\n",
        "diction = {i:[] for i in set(jobs)}\n",
        "for people in data:\n",
        "    for job in people['jobs']:\n",
        "        diction[job].append(people['username'])\n",
        "diction"
      ]
    },
    {
      "cell_type": "markdown",
      "id": "7c099f88",
      "metadata": {
        "id": "7c099f88"
      },
      "source": [
        "2.2 Сохраните результаты в файл job_people.pickle и в файл job_people.json с использованием форматов pickle и JSON соответственно. Сравнить объемы получившихся файлов. При сохранении в JSON укажите аргумент indent.\n"
      ]
    },
    {
      "cell_type": "code",
      "execution_count": null,
      "id": "d485693c",
      "metadata": {
        "id": "d485693c",
        "outputId": "acfc4265-6f95-4553-f15f-0abb8c6f5a30"
      },
      "outputs": [
        {
          "data": {
            "text/plain": [
              "(132236, 372879)"
            ]
          },
          "execution_count": 35,
          "metadata": {},
          "output_type": "execute_result"
        }
      ],
      "source": [
        "with open('job_people.pickle', 'wb') as f:\n",
        "    pickle.dump(diction, f)\n",
        "    \n",
        "with open(\"job_people.json\", \"w\") as f:\n",
        "    json.dump(diction, f, indent=3)\n",
        "    \n",
        "    \n",
        "os.path.getsize(\"job_people.pickle\"), os.path.getsize(\"job_people.json\")"
      ]
    },
    {
      "cell_type": "markdown",
      "id": "c6a2fbc2",
      "metadata": {
        "id": "c6a2fbc2"
      },
      "source": [
        "2.3 Считайте файл pickle и продемонстрируйте, что данные считались корректно."
      ]
    },
    {
      "cell_type": "code",
      "execution_count": null,
      "id": "7a2d03c6",
      "metadata": {
        "id": "7a2d03c6"
      },
      "outputs": [],
      "source": [
        "with open(\"job_people.json\", \"r\") as read_file:\n",
        "    data1 = json.load(read_file)\n",
        "    \n",
        "with open(\"job_people.pickle\", \"rb\") as read_file:\n",
        "    data2 = pickle.load(read_file)"
      ]
    },
    {
      "cell_type": "code",
      "execution_count": null,
      "id": "6e764c95",
      "metadata": {
        "id": "6e764c95"
      },
      "outputs": [],
      "source": [
        "data1"
      ]
    },
    {
      "cell_type": "code",
      "execution_count": null,
      "id": "6ec584ba",
      "metadata": {
        "id": "6ec584ba"
      },
      "outputs": [],
      "source": [
        "data2"
      ]
    },
    {
      "cell_type": "markdown",
      "metadata": {
        "id": "EzOJ8SpvTHUL"
      },
      "source": [
        "### XML"
      ],
      "id": "EzOJ8SpvTHUL"
    },
    {
      "cell_type": "markdown",
      "metadata": {
        "id": "6x0yVEwOTHUL"
      },
      "source": [
        "3.1 По данным файла `steps_sample.xml` сформируйте словарь с шагами по каждому рецепту вида `{id_рецепта: [\"шаг1\", \"шаг2\"]}`. Сохраните этот словарь в файл `steps_sample.json`"
      ],
      "id": "6x0yVEwOTHUL"
    },
    {
      "cell_type": "markdown",
      "metadata": {
        "id": "Cn_bumzxTHUM"
      },
      "source": [
        "3.2 По данным файла `steps_sample.xml` сформируйте словарь следующего вида: `кол-во_шагов_в_рецепте: [список_id_рецептов]`"
      ],
      "id": "Cn_bumzxTHUM"
    },
    {
      "cell_type": "code",
      "source": [
        "content = open(\"steps_sample.xml\", 'r').read()\n",
        "soup = BeautifulSoup(content, 'xml')\n",
        "\n",
        "result_dict = {}\n",
        "for recipe in soup.find_all(\"recipe\"):\n",
        "    recipe_id = int(recipe.find(\"id\").get_text())\n",
        "    result_dict[recipe_id] = []\n",
        "    for step in recipe.find_all(\"step\"):\n",
        "        text = step.get_text()\n",
        "        result_dict[recipe_id].append(text)\n",
        "result_dict"
      ],
      "metadata": {
        "id": "yWM1B8H_Tdfd"
      },
      "id": "yWM1B8H_Tdfd",
      "execution_count": null,
      "outputs": []
    },
    {
      "cell_type": "markdown",
      "metadata": {
        "id": "hn97Gz-DTHUM"
      },
      "source": [
        "3.3 Получите список рецептов, в этапах выполнения которых есть информация о времени (часы или минуты). Для отбора подходящих рецептов обратите внимание на атрибуты соответствующих тэгов."
      ],
      "id": "hn97Gz-DTHUM"
    },
    {
      "cell_type": "code",
      "source": [
        "steps = [[y for y in i.find_all('step') if y.get(\"has_minutes\") is not None or y.get(\"has hours\") is not None] for i in ko.find_all('steps')]\n",
        "id_teg = [id[i] for i in range(len(steps)) if len(steps[i]) != 0]\n",
        "id_teg"
      ],
      "metadata": {
        "id": "Lxo-qSUDVqSg"
      },
      "id": "Lxo-qSUDVqSg",
      "execution_count": null,
      "outputs": []
    },
    {
      "cell_type": "markdown",
      "metadata": {
        "id": "mr2slVLzTHUM"
      },
      "source": [
        "3.4 Загрузите данные из файла `recipes_sample.csv` (__ЛР2__) в таблицу `recipes`. Для строк, которые содержат пропуски в столбце `n_steps`, заполните этот столбец на основе файла  `steps_sample.xml`. Строки, в которых столбец `n_steps` заполнен, оставьте без изменений."
      ],
      "id": "mr2slVLzTHUM"
    },
    {
      "cell_type": "code",
      "source": [
        "with open('steps_sample.xml') as f:\n",
        "ab = BeautifulSoup(f,'xml')\n",
        "l = [len(el.steps.text.split('\\n'))-1 for el in ab.find_all('recipe')] \n",
        "recipe = pd.read_csv('recipes_sample-csv')\n",
        "recipe.n_steps = recipe.n_steps.fillna('XXXX')\n",
        "for i in range(len(recipe['n_steps'])): \n",
        "    if recipe['n_steps'][i] == 'XXXX':\n",
        "        recipe['n_steps'][i] = l[i]\n",
        "    print(recipe['n_steps'][i])"
      ],
      "metadata": {
        "id": "WJCXtm5qWrQG"
      },
      "id": "WJCXtm5qWrQG",
      "execution_count": null,
      "outputs": []
    },
    {
      "cell_type": "markdown",
      "metadata": {
        "id": "ImW4DLAVTHUM"
      },
      "source": [
        "3.5 Проверьте, содержит ли столбец `n_steps` пропуски. Если нет, то преобразуйте его к целочисленному типу и сохраните результаты в файл `recipes_sample_with_filled_nsteps.csv`"
      ],
      "id": "ImW4DLAVTHUM"
    },
    {
      "cell_type": "code",
      "source": [
        "w = csv.writer()\n",
        "print(recipe.n_steps.isna().sum())\n",
        "recipe.n_steps = recipe.n_steps.astype(float)\n",
        "recipe = recipe.to_csv('recipes_sample_with_filled_nsteps.csv')"
      ],
      "metadata": {
        "id": "rghOjcHrYet-"
      },
      "id": "rghOjcHrYet-",
      "execution_count": null,
      "outputs": []
    }
  ],
  "metadata": {
    "kernelspec": {
      "display_name": "Python 3 (ipykernel)",
      "language": "python",
      "name": "python3"
    },
    "language_info": {
      "codemirror_mode": {
        "name": "ipython",
        "version": 3
      },
      "file_extension": ".py",
      "mimetype": "text/x-python",
      "name": "python",
      "nbconvert_exporter": "python",
      "pygments_lexer": "ipython3",
      "version": "3.10.6"
    },
    "colab": {
      "provenance": []
    }
  },
  "nbformat": 4,
  "nbformat_minor": 5
}