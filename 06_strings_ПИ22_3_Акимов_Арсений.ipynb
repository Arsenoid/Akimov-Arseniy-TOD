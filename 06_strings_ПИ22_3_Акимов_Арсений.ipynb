{
  "cells": [
    {
      "cell_type": "markdown",
      "metadata": {
        "id": "WrKuwytQ9kdO"
      },
      "source": [
        "# Работа со строковыми значениями"
      ]
    },
    {
      "cell_type": "markdown",
      "metadata": {
        "id": "J3f1v7lu9kdS"
      },
      "source": [
        "__Автор задач: Блохин Н.В. (NVBlokhin@fa.ru)__\n",
        "\n",
        "Материалы:\n",
        "* Макрушин С.В. Лекция \"Работа со строковыми значениям\"\n",
        "* https://pyformat.info/\n",
        "* https://docs.python.org/3/library/re.html\n",
        "    * https://docs.python.org/3/library/re.html#flags\n",
        "    * https://docs.python.org/3/library/re.html#functions\n",
        "* https://pythonru.com/primery/primery-primeneniya-regulyarnyh-vyrazheniy-v-python\n",
        "* https://kanoki.org/2019/11/12/how-to-use-regex-in-pandas/\n",
        "* https://realpython.com/nltk-nlp-python/"
      ]
    },
    {
      "cell_type": "markdown",
      "metadata": {
        "id": "2_HbAYf39kdT"
      },
      "source": [
        "## Задачи для совместного разбора"
      ]
    },
    {
      "cell_type": "code",
      "source": [
        "import re\n",
        "import pandas as pd\n",
        "from bs4 import BeautifulSoup"
      ],
      "metadata": {
        "id": "VSh7VczANu6D"
      },
      "execution_count": 3,
      "outputs": []
    },
    {
      "cell_type": "markdown",
      "metadata": {
        "id": "sCLdsVWa9kdT"
      },
      "source": [
        "1. Вывести на экран данные из словаря `obj` построчно в виде `k = v`, задав формат таким образом, чтобы знак равенства оказался на одной и той же позиции во всех строках. Строковые литералы обернуть в кавычки."
      ]
    },
    {
      "cell_type": "code",
      "execution_count": null,
      "metadata": {
        "id": "j7IEadJ99kdU",
        "colab": {
          "base_uri": "https://localhost:8080/"
        },
        "outputId": "42ebea43-e1ca-40a9-d3b6-c3baf8eb24dd"
      },
      "outputs": [
        {
          "output_type": "stream",
          "name": "stdout",
          "text": [
            "\"home_page\" = \"https://github.com/pypa/sampleproject\"\n",
            "\"keywords\"  = \"sample setuptools development\"\n",
            "\"license\"   = \"MIT\"\n"
          ]
        }
      ],
      "source": [
        "obj = {\n",
        "    \"home_page\": \"https://github.com/pypa/sampleproject\",\n",
        "    \"keywords\": \"sample setuptools development\",\n",
        "    \"license\": \"MIT\",\n",
        "}\n",
        "\n",
        "for i,j in obj.items():\n",
        "  print(f'''{'\"'+i+'\"':11} = {'\"'+j+'\"':1}''')"
      ]
    },
    {
      "cell_type": "markdown",
      "metadata": {
        "id": "T4id66JW9kdV"
      },
      "source": [
        "2. Написать регулярное выражение,которое позволит найти номера групп студентов."
      ]
    },
    {
      "cell_type": "code",
      "execution_count": null,
      "metadata": {
        "colab": {
          "base_uri": "https://localhost:8080/"
        },
        "id": "Era4zGQZ9kdV",
        "outputId": "3de9c506-d3b5-4ee9-bef6-8df675149fbe"
      },
      "outputs": [
        {
          "output_type": "stream",
          "name": "stdout",
          "text": [
            "ПМ19-1\n",
            "пм 20-4\n",
            "на 20-3\n"
          ]
        }
      ],
      "source": [
        "obj = pd.Series([\"Евгения гр.ПМ19-1\", \"Илья пм 20-4\", \"Анна 20-3\"])\n",
        "p = re.compile(r\"[^\\d]{0,2} ?\\d{2}-\\d\")\n",
        "for i in obj:\n",
        "    print(p.search(i).group(0))"
      ]
    },
    {
      "cell_type": "markdown",
      "metadata": {
        "id": "5RYrEAFW9kdW"
      },
      "source": [
        "3. Разбейте текст формулировки задачи 2 на слова."
      ]
    },
    {
      "cell_type": "code",
      "source": [
        "str_ = 'Написать регулярное выражение,которое позволит найти номера групп студентов.'\n",
        "res = re.findall(r\"[а-яА-ЯеЕё]+\", str_)\n",
        "print(res)"
      ],
      "metadata": {
        "colab": {
          "base_uri": "https://localhost:8080/"
        },
        "id": "DA_454ua5MIo",
        "outputId": "f7585efd-2c63-40e9-9071-f5d4e39fd34e"
      },
      "execution_count": null,
      "outputs": [
        {
          "output_type": "stream",
          "name": "stdout",
          "text": [
            "['Написать', 'регулярное', 'выражение', 'которое', 'позволит', 'найти', 'номера', 'групп', 'студентов']\n"
          ]
        }
      ]
    },
    {
      "cell_type": "markdown",
      "metadata": {
        "id": "6U1UF4Cw9kdX"
      },
      "source": [
        "## Лабораторная работа 6"
      ]
    },
    {
      "cell_type": "markdown",
      "metadata": {
        "id": "ltcI3fa29kdX"
      },
      "source": [
        "### Форматирование строк"
      ]
    },
    {
      "cell_type": "markdown",
      "metadata": {
        "id": "bCGwa4V09kdY"
      },
      "source": [
        "1\\. Загрузите данные из файла `recipes_sample.csv` (__ЛР2__) в виде `pd.DataFrame` `recipes` При помощи форматирования строк выведите информацию об id рецепта и времени выполнения 5 случайных рецептов в виде таблицы следующего вида:\n",
        "\n",
        "    \n",
        "    |      id      |  minutes  |\n",
        "    |--------------------------|\n",
        "    |    61178     |    65     |\n",
        "    |    202352    |    80     |\n",
        "    |    364322    |    150    |\n",
        "    |    26177     |    20     |\n",
        "    |    224785    |    35     |\n",
        "    \n",
        "Обратите внимание, что ширина столбцов заранее неизвестна и должна рассчитываться динамически, в зависимости от тех данных, которые были выбраны. "
      ]
    },
    {
      "cell_type": "code",
      "source": [
        "data = pd.read_csv('recipes_sample.csv')\n",
        "a = data[[\"id\",\"minutes\"]].sample (n= 5 )\n",
        "a = a.reset_index(drop=True)\n",
        "# a = data[data[\"id\"] == 67664]\n",
        "a.reset_index(drop= True , inplace= True )\n",
        "# a[\"name\"][0]f\n",
        "print(\"|      id      |  minutes  |\")\n",
        "print(\"|--------------------------|\")\n",
        "for j in range(5):\n",
        "    print(f\"|{a.iloc[j,0]: ^14}|{a.iloc[j,1]: ^11}|\")"
      ],
      "metadata": {
        "colab": {
          "base_uri": "https://localhost:8080/"
        },
        "id": "rQhi12IeC0f5",
        "outputId": "25b6cacc-54bc-41b2-f6e3-8cdb278c19f5"
      },
      "execution_count": 2,
      "outputs": [
        {
          "output_type": "stream",
          "name": "stdout",
          "text": [
            "|      id      |  minutes  |\n",
            "|--------------------------|\n",
            "|    354607    |    490    |\n",
            "|    219214    |    32     |\n",
            "|    61879     |    60     |\n",
            "|    25486     |    55     |\n",
            "|    280510    |    63     |\n"
          ]
        }
      ]
    },
    {
      "cell_type": "markdown",
      "metadata": {
        "id": "oxGka8Fv9kdY"
      },
      "source": [
        "2\\. Напишите функцию `show_info`, которая по данным о рецепте создает строку (в смысле объекта python) с описанием следующего вида:\n",
        "\n",
        "```\n",
        "\"Название Из Нескольких Слов\"\n",
        "\n",
        "1. Шаг 1\n",
        "2. Шаг 2\n",
        "----------\n",
        "Автор: contributor_id\n",
        "Среднее время приготовления: minutes минут\n",
        "```\n",
        "\n",
        "    \n",
        "Данные для создания строки получите из файлов `recipes_sample.csv` (__ЛР2__) и `steps_sample.xml` (__ЛР3__). \n",
        "Вызовите данную функцию для рецепта с id `170895` и выведите (через `print`) полученную строку на экран."
      ]
    },
    {
      "cell_type": "code",
      "source": [
        "with open('steps_sample.xml', 'r') as f:\n",
        "  data2 = BeautifulSoup(f, 'xml')\n",
        "data_rec = data2.recipe\n",
        "data_rec = data_rec.nextSibling.nextSibling\n",
        "data_rec_step = data_rec.step\n",
        "a = []\n",
        "for i in data_rec.steps:\n",
        "  a.append(i.next)\n",
        "b= []\n",
        "for j in range(1,len(a), 2):\n",
        "  b.append(a[j])"
      ],
      "metadata": {
        "id": "bO49wNKaFe27"
      },
      "execution_count": null,
      "outputs": []
    },
    {
      "cell_type": "code",
      "source": [
        "def show_info(num):\n",
        "  data_rec = data2.recipe\n",
        "  \n",
        "  while True:\n",
        "    if data_rec.id.next == str(num):\n",
        "      strr = data[data[\"id\"] == num]\n",
        "      strr.reset_index(drop= True , inplace= True )\n",
        "      print(f'Название: {strr[\"name\"][0]}')\n",
        "      print()\n",
        "      a = []\n",
        "      for i in data_rec.steps:\n",
        "        a.append(i.next)\n",
        "      global b\n",
        "      b= []\n",
        "      for j in range(1,len(a), 2):\n",
        "        b.append(a[j])\n",
        "      for i in range(len(b)):\n",
        "        print(f\"{i+1}. Шаг {i+1} {b[i]}\")\n",
        "      print(\"----------\")\n",
        "      print(f'Автор: {strr[\"contributor_id\"][0]}')\n",
        "      print(f'Среднее время приготовления: {strr[\"minutes\"][0]} минут')\n",
        "      break\n",
        "      \n",
        "      \n",
        "    else:\n",
        "      data_rec = data_rec.nextSibling.nextSibling\n",
        "\n",
        "show_info(280510)"
      ],
      "metadata": {
        "colab": {
          "base_uri": "https://localhost:8080/"
        },
        "id": "cKJICIB8HRFs",
        "outputId": "dfee6935-8f58-4012-dfe3-8685d4d1eb25"
      },
      "execution_count": 7,
      "outputs": [
        {
          "output_type": "stream",
          "name": "stdout",
          "text": [
            "Название: quinoa muffins\n",
            "\n",
            "1. Шаг 1 preheat oven to 350f\n",
            "2. Шаг 2 in a medium saucepan , bring quinoa and 1 cup water to a boil\n",
            "3. Шаг 3 reduce to a simmer\n",
            "4. Шаг 4 cover , and cook until water has been absorbed and quinoa is tender , 11 to 13 minutes\n",
            "5. Шаг 5 meanwhile , brush a standard 12-cup muffin pan with oil\n",
            "6. Шаг 6 dust with flour , tapping out excess\n",
            "7. Шаг 7 in a medium bowl , whisk together flour , sugar , baking powder , salt , raisins , and 2 cups cooked quinoa\n",
            "8. Шаг 8 reserve any leftover quinoa for another use\n",
            "9. Шаг 9 in a small bowl , whisk together oil , milk , egg , and vanilla\n",
            "10. Шаг 10 add milk mixture to flour mixture , and stir just until combined\n",
            "11. Шаг 11 divide batter among prepared muffin cups\n",
            "12. Шаг 12 bake until toothpick inserted into the center of a muffin comes out clean , 25 to 30 minutes\n",
            "13. Шаг 13 cool muffins in pan , 5 minutes\n",
            "14. Шаг 14 transfer to a wire rack to cool completely\n",
            "15. Шаг 15 store in an airtight container up to 5 days\n",
            "----------\n",
            "Автор: 43642\n",
            "Среднее время приготовления: 63 минут\n"
          ]
        }
      ]
    },
    {
      "cell_type": "markdown",
      "metadata": {
        "id": "m0m1-xrq9kdZ"
      },
      "source": [
        "## Работа с регулярными выражениями"
      ]
    },
    {
      "cell_type": "markdown",
      "metadata": {
        "id": "WZ_vjp1X9kdZ"
      },
      "source": [
        "3\\. Напишите регулярное выражение, которое ищет следующий паттерн в строке: число (1 цифра или более), затем пробел, затем слова: hour или hours или minute или minutes. Произведите поиск по данному регулярному выражению в каждом шаге рецепта с id 25082. Выведите на экран все непустые результаты, найденные по данному шаблону."
      ]
    },
    {
      "cell_type": "code",
      "execution_count": 10,
      "metadata": {
        "colab": {
          "base_uri": "https://localhost:8080/"
        },
        "id": "ArTWEwBMPdPa",
        "outputId": "0bcce58b-272d-4941-b1d5-b9383668dabb"
      },
      "outputs": [
        {
          "output_type": "stream",
          "name": "stdout",
          "text": [
            "Название: basic whole wheat bread\n",
            "\n",
            "1. Шаг 1 proof yeast in half a cup of the water , with about a teaspoon of flour- let it sit , covered , until it becomes bubbly& active\n",
            "2. Шаг 2 combine the rest of the water with the yeast / water in a large bowl , and gradually add about half of the flour\n",
            "3. Шаг 3 stir the mixture about 100 times in the same direction , until it is well-mixed and strands are beginning to form\n",
            "4. Шаг 4 stir in the salt and oil\n",
            "5. Шаг 5 add the remaining flour half a cup at a time , stirring well , until it is too stiff to stir with a spoon\n",
            "6. Шаг 6 turn out onto a lightly floured board and knead for about 20 minutes , adding flour as nescessary to keep the dough from sticking to the board\n",
            "7. Шаг 7 the dough should be springy and nice to work with\n",
            "8. Шаг 8 when it has been sufficiently kneaded , cover it with a damp cloth for about 10 minutes and wash and grease the bowl lightly\n",
            "9. Шаг 9 after it has rested , knead the dough a few more times and place it in the bowl , covered with the damp cloth , a plastic bag , and maybe a plate\n",
            "10. Шаг 10 let the dough rise until it springs back when you stick your finger in it , and it is about twice the size as it was before (this takes about 2 hours\n",
            "11. Шаг 11 longer or shorter depending on the room temperature- i prefer a longer rise , because it allows the flavour to develop more\n",
            "12. Шаг 12 but sometimes you just don't have time for that sort of thing)\n",
            "13. Шаг 13 deflate the dough by punching or kneading it a few times , and let it rise again- this time , it should take about half the amount of time as it did before\n",
            "14. Шаг 14 when the dough has risen twice , deflate it again and cover it with the damp cloth again for about 10 minutes , then divide it into and shape it into loaves , buns , etc\n",
            "15. Шаг 15 let the shaped dough rise on a baking sheet or in a loaf-pan for about an hour maybe- it will rise a bit more in the oven\n",
            "16. Шаг 16 slash the top of the bread if you want , so that it doesn't bust open in the oven\n",
            "17. Шаг 17 bake at 400 for 20 minutes , and then turn the oven down to 350 and bake for 20-30 minutes longer , until the loaf is a lovely brown and sounds hollow when you thump it on the bottom\n",
            "18. Шаг 18 try to let the loaf cool before you tear into it\n",
            "----------\n",
            "Автор: 25483\n",
            "Среднее время приготовления: 290 минут\n",
            "\n",
            "turn out onto a lightly floured board and knead for about 20 minutes , adding flour as nescessary to keep the dough from sticking to the board\n",
            "when it has been sufficiently kneaded , cover it with a damp cloth for about 10 minutes and wash and grease the bowl lightly\n",
            "let the dough rise until it springs back when you stick your finger in it , and it is about twice the size as it was before (this takes about 2 hours\n",
            "when the dough has risen twice , deflate it again and cover it with the damp cloth again for about 10 minutes , then divide it into and shape it into loaves , buns , etc\n",
            "bake at 400 for 20 minutes , and then turn the oven down to 350 and bake for 20-30 minutes longer , until the loaf is a lovely brown and sounds hollow when you thump it on the bottom\n"
          ]
        }
      ],
      "source": [
        "import re\n",
        "pattern = r\"\\d+\\s(hours?|minutes?)\"\n",
        "show_info(25082)\n",
        "print()\n",
        "for i in b:\n",
        "  if bool(re.search(pattern, str(i))) == True:\n",
        "    print(i)"
      ]
    },
    {
      "cell_type": "markdown",
      "metadata": {
        "id": "Gh9CQvRw9kdZ"
      },
      "source": [
        "4\\. Напишите регулярное выражение, которое ищет шаблон вида \"this..., but\" _в начале строки_ . Между словом \"this\" и частью \", but\" может находиться произвольное число букв, цифр, знаков подчеркивания и пробелов. Никаких других символов вместо многоточия быть не может. Пробел между запятой и словом \"but\" может присутствовать или отсутствовать.\n",
        "\n",
        "Используя строковые методы `pd.Series`, выясните, для каких рецептов данный шаблон содержится в тексте описания. Выведите на экран количество таких рецептов и 3 примера подходящих описаний (текст описания должен быть виден на экране полностью)."
      ]
    },
    {
      "cell_type": "code",
      "source": [
        "data_copy = data[[\"id\",\"description\"]].copy()\n",
        "pattern = r\"\\d+\\s(hours?|minutes?)\"\n",
        "pattern = r\"^this[\\w\\s]*,\\s?but\"\n",
        "mass = []\n",
        "for i in data[\"description\"]:\n",
        "  if str(i) == \"nan\":\n",
        "    continue\n",
        "  if bool(re.search(pattern, i)) == True:\n",
        "    mass.append(i)\n",
        "for i in range(3):\n",
        "  print(mass[i])\n",
        "print(len(mass))"
      ],
      "metadata": {
        "colab": {
          "base_uri": "https://localhost:8080/"
        },
        "id": "lkVm0RR0I0cV",
        "outputId": "9b28bd69-fa94-494b-eb90-031fd9a0c293"
      },
      "execution_count": 13,
      "outputs": [
        {
          "output_type": "stream",
          "name": "stdout",
          "text": [
            "this is a great meal eaten the same day ,but even better the next day , if you can wait! add your favourite spices, but try it first as it is and i think that you will enjoy the 'vegetable' taste. good for freezing.\n",
            "this was adapted from a recipe i found on the net, but i added julienne onion to the peppers.  this is a meal in itself, or you could have a small slice with a meat dish.  for those that like to have brunch, it's a bit different to your traditional quiche recipes.  if you love cheese, you could add 1/2 cup of your favorite to the egg mixture, then pour over peppers.\n",
            "this is kind of similar to some of the other versions out there, but it is the best and easiest i have found\n",
            "134\n"
          ]
        }
      ]
    },
    {
      "cell_type": "markdown",
      "metadata": {
        "id": "Nwn7d99G9kda"
      },
      "source": [
        "5\\. В текстах шагов рецептов обыкновенные дроби имеют вид \"a / b\". Используя регулярные выражения, уберите в тексте шагов рецепта с id 72367 пробелы до и после символа дроби. Выведите на экран шаги этого рецепта после их изменения."
      ]
    },
    {
      "cell_type": "code",
      "source": [
        "show_info(72367)\n",
        "print()\n",
        "\n",
        "for i in b:\n",
        "  recipe_72367 = re.sub(r'\\s*/\\s*', '/', i)\n",
        "  print(recipe_72367)"
      ],
      "metadata": {
        "colab": {
          "base_uri": "https://localhost:8080/"
        },
        "id": "dFya2H0XI9Mb",
        "outputId": "edbb4c57-0905-44d3-bf86-b67887bb8f72"
      },
      "execution_count": 15,
      "outputs": [
        {
          "output_type": "stream",
          "name": "stdout",
          "text": [
            "Название: bavarian apple cheese cake tart\n",
            "\n",
            "1. Шаг 1 mix butter , flour , 1 / 3 c\n",
            "2. Шаг 2 sugar and 1-1 / 4 t\n",
            "3. Шаг 3 vanilla\n",
            "4. Шаг 4 press into greased 9\" springform pan\n",
            "5. Шаг 5 mix cream cheese , 1 / 4 c\n",
            "6. Шаг 6 sugar , eggs and 1 / 2 t\n",
            "7. Шаг 7 vanilla beating until fluffy\n",
            "8. Шаг 8 pour over dough\n",
            "9. Шаг 9 combine apples , 1 / 3 c\n",
            "10. Шаг 10 sugar and cinnamon\n",
            "11. Шаг 11 arrange on top of cream cheese mixture and sprinkle with almonds\n",
            "12. Шаг 12 bake at 350 for 45-55 minutes , or until tester comes out clean\n",
            "----------\n",
            "Автор: 93006\n",
            "Среднее время приготовления: 65 минут\n",
            "\n",
            "mix butter , flour , 1/3 c\n",
            "sugar and 1-1/4 t\n",
            "vanilla\n",
            "press into greased 9\" springform pan\n",
            "mix cream cheese , 1/4 c\n",
            "sugar , eggs and 1/2 t\n",
            "vanilla beating until fluffy\n",
            "pour over dough\n",
            "combine apples , 1/3 c\n",
            "sugar and cinnamon\n",
            "arrange on top of cream cheese mixture and sprinkle with almonds\n",
            "bake at 350 for 45-55 minutes , or until tester comes out clean\n"
          ]
        }
      ]
    },
    {
      "cell_type": "markdown",
      "metadata": {
        "id": "VJFu2yIZ9kda"
      },
      "source": [
        "### Сегментация текста"
      ]
    },
    {
      "cell_type": "markdown",
      "metadata": {
        "id": "wmH5vjSa9kda"
      },
      "source": [
        "6\\. Разбейте тексты шагов рецептов на слова при помощи пакета `nltk`. Посчитайте и выведите на экран кол-во уникальных слов среди всех рецептов. Словом называется любая последовательность алфавитных символов (для проверки можно воспользоваться `str.isalpha`). При подсчете количества уникальных слов не учитывайте регистр."
      ]
    },
    {
      "cell_type": "code",
      "source": [
        "import nltk\n",
        "from nltk.tokenize import sent_tokenize, word_tokenize\n",
        "import numpy as np\n",
        "nltk.download('punkt')\n",
        "nltk.download('averaged_perceptron_tagger')"
      ],
      "metadata": {
        "colab": {
          "base_uri": "https://localhost:8080/"
        },
        "id": "zn5CB768L9QN",
        "outputId": "e33f5593-4028-47ee-b0b6-c296aa673c3b"
      },
      "execution_count": 20,
      "outputs": [
        {
          "output_type": "stream",
          "name": "stderr",
          "text": [
            "[nltk_data] Downloading package punkt to /root/nltk_data...\n",
            "[nltk_data]   Package punkt is already up-to-date!\n",
            "[nltk_data] Downloading package averaged_perceptron_tagger to\n",
            "[nltk_data]     /root/nltk_data...\n",
            "[nltk_data]   Unzipping taggers/averaged_perceptron_tagger.zip.\n"
          ]
        },
        {
          "output_type": "execute_result",
          "data": {
            "text/plain": [
              "True"
            ]
          },
          "metadata": {},
          "execution_count": 20
        }
      ]
    },
    {
      "cell_type": "code",
      "source": [
        "words = []\n",
        "data_rec = data2.recipe\n",
        "# print(data2.recipe.step)\n",
        "# words.append(word_tokenize(data2.recipe.step.next))\n",
        "for i in range(len(data2.recipes)):\n",
        "  try:\n",
        "    words.append(word_tokenize(data_rec.step.next))\n",
        "    data_rec = data_rec.nextSibling.nextSibling\n",
        "  except AttributeError:\n",
        "    continue\n",
        "words = [a for b in words for a in b]\n",
        "unique_numbers = list(set(words))\n",
        "print(unique_numbers)"
      ],
      "metadata": {
        "colab": {
          "base_uri": "https://localhost:8080/"
        },
        "id": "7FSu5P9wMPl8",
        "outputId": "7b433157-7b70-4b81-fa8c-f745dfd8f2fc"
      },
      "execution_count": 18,
      "outputs": [
        {
          "output_type": "stream",
          "name": "stdout",
          "text": [
            "['constantly', 'tall', 'disintegrates', 'tops', 'alfredo', 'cheeze', 'cedar', 'reads', 'shaker', 'something', 'soymilk', 'damp', '5cm', 'granola', 'important', 'half-fill', 'stopping', 'curling', 'gum', 'broiled', 'shreds', 'can', 'velvet', 'swirling', '12-oz', 'brisket', 'tripe', 'trace', 'selecting', 'roastin', 'exactly', 'fall', 'roasts', 'meatloaf', 'centigrade', 'linguine', 'preferably', 'self-sealing', 'flip', 'thoroughly', 'sparkling', 'include', 'paper-lined', 'rinds', 'creative', 'overcook', 'jicama', 'tangerine', 'direct', 'oinon', 'saltpeter', 'wiz', 'plantain', 'twos', 'fast', 'prepararation', 'mushroon', 'x10', 'carving', 'handy', 'longest', 'watching', '4c', 'oelek', 'wide-mouth', 'personal', 'vitamins', 'garlic-', 'bite-sized-', 'listing', 'poacher', '-', 'slanted', 'crawfish', 'does', 'pearl', 'dissolves', 'upper', 'over-nite', 'hens', 'hr', 'konbu', 'strip', 'idea', 'requires', 'gradually', 'anchovy', 'submerged', 'fromage', 'pancake', 'bailey', 'nearly', 'utensils', 'outsides', 'sterilised', 'hollow', 'discolor', 'matzo', '9x12-inch', 'approx', 'pre-soak', 'pitter', 'tbs', 'cukes', 'hoods', '355', 'grounds', 'sides-', 'two-crust', '3rd', 'tsps', 'depth', 'bites', 'ice', 'lined', 'blemished', '2-3', 'nozzle', 'couple', 'skirt', 'change', 'gazpacho', 'degrees', 'pats', 'sproats', 'sweetner', 'tails', 'grinding', 'keeps', 'cassis', 'problems', 'dillweed', 'damaged', 'cube', 'ladyfingers', 'perforations', 'jello', 'groundnut', 'herrings', 'oilin', 'basil-sherry', 'tri-', 'twist', 'resealing', 'floor', 'pourable', 'bordeaux', 'cardomom', 'putting', 'marshmallows', 'desire', 'smoothie-ize', 'picante', 'pecans', 'combine', 'sweat', 'strawberry-banana', 'come', 'carton', 'balady', '15-', 'd', '6-quart', 'mix', 'popped', 'plan', 'seasoned', 'gras', 'dariole', 'zester', 'fennel', 'smoky', 'freshly', 'excess', 'ungreased', 'velvetta', 'moisten', 'topping', 'pounding', 'downward', 'posted', 'option', '9-10', 'muscat', 'two-bite', 'moderate', 'meanwhile', '10qt', 'parsnips', 'unopened', 'kahla', 'caramilsed', 'assembly', 'leeks', '34', '5mm', 'stable', 'breadsticks', 'hole', 'two-9', 'cubs', 'lemmon', 'mozzarella', 'fillets', 'pints', 'duch', '4-cup', 'mason', 'clay', 'half-filled', '16-ounce', 'heat-proof', 'castellane', 'blossoms', 'ingredsients', 'sumac', 'zip-loc', 'squash', 'second-highest', 'semicircular', 'crunch', 'floweret', '238', 'quick-soak', 'warming', 'spam', 'l', \"'ve\", 'honey-chipotle', 'moong', 'micro-wave', 'inserts', 'mignon', '2-quarter', 'checkpeas', 'ca', 'frothing', 'vermicelli', '9', 'probably', '6', 'saucepot', 'kippers', 'liking', 'used', 'medium-sized', 'saving', 'reaches', 'caliente', 'tilapia', 'con', 'garam', 'absorb', 'penne', 'mojo', 'flower', 'cheesecake', 'old-fashioned', '13x9', 'somewhere', 'freezer', 'muddle', 'crystal', 'jalapeos', '375', 'crust-', 'whirl', 'beside', 'given', 'burning', 'chocoate', 'ancho', 'thru', 'obtained', 'pkge', 'sift', 'bubbly', 'tbps', 'cashew', 'cap', 'rib-eye', 'proof', 'feathery', 'prehead', 'squirt', 'love', 'livers', 'bucket', 'from', '10-20', 'stemmed', 'cornstarch', 'released', '20g', 'do-it-as-you-like', 'dream', 'bittersweet', 'story', 'dinner', 'ready', 'bermuda', 'pam-like', 'nachos', 'zuchini', 'edelweiss', 'bowl-', 'market', 'did', 'supreme', 'saucegarlic', 'chunk', 'liberally', 'wee', 'garnishing', 'acini', '913', 'mixingand', 'gather', 'oiluntil', 'grains', 'prepared', 'ta', 'pinfeathers', 'who', 'continously', 'suppose', '-cube', 'drizzling', 'grilled', 'second-lowest', '9x9x2', 'smooth', 'cutting', 'solid', 'hairy', 'backbone', 'secure', 'kugelhopf', 'says', 'ajino', 'behind', 'table', 'cobs', 'sparingly', 'v8', 'sucepan', 'beyond', 'please', 'sherbet', 'ingrediants', '75', 'sealable', 'burners', 'upon', 'plus', '14', 'skillet', 'panko', 'rapid', 'dry-roast', 'flour-', '2', 'mark', 'continue', 'preferred', 'nutter', '32', 'kielbases', 'burn', 'coffe', 'premium', '2-qt', 'day-old', 'horizontal', 'steep', '5-10ml', 'coats', 'fist', 'electic', 'vegemite', 'caramelisation', 'tenderness', 'honeydew', 'lin', 'left-over', 'asian', 'outback', '8-by-8-by-2-inch', 'spare', 'bubble', 'vinaigreete', 'which', 'pattern', 'prik', '2-6', 'kernels', 'stewed', 're-sealable', \"butter'til\", 'liquify', '15-30', 'pulses', 'provolone', 'poke', '(', 'waffle', 'caraelise', 'hidden', 'bruised', 'flan', 'tissue', 'cheesecloth-lined', 'standing', 'tamari', 'believe', 'firs', 'softer', 'hob', 'snowpeas', 'candies', 'apricot', 'vegetarian', 'loomi', '1qt', 'avacados', 'ginger-garlic', 'ton', 'open', 'fillings', 'pancetta', 'stretching', 'pish', 'whip', 'think', 'toweling', 'saucers', 'x8', 'liquified', 'usually', 'lengthwise', '1x2', 'pierce', 'grating', 'garlice', 'scorch', 'legs', 'pat', '4-quart', 'sea', 'areas', 'ppowder', 'briskets', 'care', 'contest', 'squashy', 'process', 'aids', 'lower-middle', 'jacket', 'freezable', 'sultanas', 'tortillas', 'placed', 'cones', 'debone', 'blackening', 'burned', '35-40', 'relies', 'jug', 'organic', 'roller', 'butter-side', 'syrups', 'generous-sized', 'hard-ball', '50ml', 'sieve', 'deboned', '3-1', \"'n\", '390', 'spout', 'bechamel', 'trifle', '961', 'provence', 'dissolve', 'one-', 'loosen', 'shucked', 'petals', 'floating', 'mouth', '12-cupcake', 'code', 'polenta', 'falling', 'held', 'pero', 'scald', 'festive', 'spots', 'broccoflower', 'duty', 'iron', '1-gallon', 'unsweetened', 'mayonnasise', 'refrigerator', 'marking', 'scuppernongs', 'til', 'blackberries', 'demolish', 'slices', '225', 'here', 'heap', 'shredd', 'heaping', 'cooking', 'flavor', 'huckleberries', 'kielbasa', 'bringing', '300', 'chew', 'scrambled', 'packet', 'morsels', 'tumeric', 'millet', '480f', 'undissolved', 'pine', 'popper', 'lettuces', 'sitting', 'stakes', 'grill', 'pm', 'wild', 'rock', 'leavesand', 'sip', 'flame-prrof', 'burst', 'spice-grinder', 'sugar-gradually', 'polow', 'directions', 'cottage', 'ingredient', 'arrange', 'drape', 'hershey', 'canadian', 'isle', 'stan', 'beaten', 'moroccan', 'peaks', 'sugr', 'mummy', 'crab', 'chip', 'assembling', 'yolks', 'sized', 'de-vein', 'incorporate', 'pulverize', 'olives', 'breeze', 'serving-size', 'pkt', 'sambal', 'horizontally', 'damage', 'kenafe', 'pacakge', 'scrubbed', 'raisin', 'bain', 'smokie', 'weetbix', 'wrist', 'brining', 'saeeds', 'onion-mushroom', 'patty', 'turning', 'mornings', 'grip', 'balloon', 'hamburg', '170', 'conc', 'tia', 'chess', 'no-stick', 'boxes', 'heinz', 'deveined', 'lightly-', '6-7', 'stuffed', '10-12', 'mentioned', 'handled', 'disolved', 'cilantro-orange', 'chili', 'sideway', 'picture', 'though', 'with', 'grease', 'fillet', 'eat', 'steralize', 'towelling', 'farina', 'salty', 'flowers', 'substitute', 'v-8', 'decorated', 'ecpect', 'mean', '9x9x2-inch', 'whisking', 'tbls', 'left', 'thai', 'pass', 'saran', '8x1', 'jus', 'making', 'sugar', 'exposing', 'bitters', '10-inch', 'out', 'marlalade', '550', 'golfball', 'quarts', 'bot', 'godiva', 'quail', '6:1', 'sauce~', 'pair', 'specifications', '-mix', 'yogurt', 'usual', '425of', 'through', 'puddings', '20-25', 'semi', 'sterilized', 'strawberry', 'later', 'covers', 'tikka', 'deep-dish', 'singe', 'kalamata', 'burns', 'adzuki', 'torn', 'kirsch', 'get', 'canola', '12ct', 'bare', 'ground', 'zuchinni', 'seasonsed', 'bones', '3-5', 'chopped', 'khoya', 'patties', 'give', 'bugs', 'brine', 'mussel', 'draining', 'face-up', '>', 'rotel', 'portion', 'paralyzer', 'then', 'strings', '35o', 'food-storage', 'coconut', 'breadmaker', 'gallon-sized', 'half-and-half', 'moisture', 'clusters', 'saskatoon', 'have', 'cork', 'under-cook', 'cappuccino', 'vinegars', 'range', 'wearing', 'length', 'snow', 'apply', 'smooth-', 'dissuaded', 'hasten', 'creamiest', 'top', 'vigorous', 'marinade', 'acid', 'dress', 'wise', '2-liter', 'textured', 'rather', 'suger', '15x10x1', 'filtered', 'max', 'smal', 'tblsps', 'philadelphia', 'dirt', 'cubes', 'pressed', 'overmixed', '120f', 'sacue', 'three-quart', 'bottoms', 'hieat', 'super', 'increase', 'roux', 'drops', 'comal', 'circumference', 'olde', 'doughy', 'room', 'dreaming', 'person', 'coals', 'biscuits', 'thinned', 'cooked', 'hang', '475f', 'stick', 'sack', 'wrapping', 'unless', 'all', 'number', 'sucanat', 'saucpan', 'brine-', 'resemles', 'mirowave', 'considtency', 'like', 'preserving', 'calling', 'seas', 'amount', 'measurements', '1-teaspoon', 'critical', 'flexible', 'fudge-like', 'utensil', 'wash', 'sunchokes', 'laden', 'tongue', '1-2-inch', 'brazil', 'portebellos', 'ropes', 'stevia', 'galanga', 'air', 'inspect', 'cutter', 'boiler', 'wafer', 'graham', 'mortor', 'generous', 'drumsticks', 'material', '30-', 'risotta-making', 'red', 'done-do', '450', 'required', 'mild', 'wedges', 'abaking', '220dc', 'lump', 'veggie', 'cookarolis', 'kung', 'unsalted', 'safety-first', 'one', 'silicone', 'bullion', '13-inch', 'crockery', 'tobasco', 'extracting', 'chana', 'grass', 'passionfruit', 'bite-sized', 'ricotta', 'yams', 'mine', 'corn', 'attached', 'gease', 'radiatore', 'steamy', 'dew', 'sort', 'hash', 'lg', 'removable', 'vendor', 'unpeeled', 'swiss-roll', 'fahrenheit', 'towels', 'close', 'coarse', 'gammon', 'ham', 'smear', 'reduce', 'hydrogenated', 'fritos', 'infredients', '400e', 'colander', 'melted', 'grab', 'listed-the', 'carmilize', 'uncover', 'elaving', 'chilled', '12-in', 'beetroot', 'cheesecloth', 'one-crust', '2-litre', 'dissolving', 'grated', 'equipment', 'nonmetallic', 'splitting', 'flutes', 'pliers', 'preiheat', 'criss-cross', 'mirin', 'beef-style', 'dente', 'permit', 'margarita-mix', 'serbian', 'pop', 'concentric', 'becomes', 'point', 'chipotle-powder', 'jcama', 'ye', '23', 'pits', 'detaching', '3-pound', 're', 'murky', 'dealer', 'redness', '1cm', 'icy', \"'s\", 'tight', 'stale', 'ckened', 'sealing', 'crowd', '115f', 'ginger', '64', 'starter', 'transfer', 'carmelized', 'ever', 'basmati', 'glasses', 'melts', 'brie', 'cotton', 'need', 'containers', 'dash', 'mayonaisse', 'plavee', 'cointreau', 'hugs', 'logs', 'unfolding', 'punchbowl', 'steaming', 'rolled', 'burrito', 'dry-fry', 'mascarpone', 'ceyenne', 'slashes', '1st', 'marry', 'soba', 'one-sixteenth-inch', 'popping', 'appliance', 'melt', 'moosh', 'half-onion', 'hear', 'maching', 'crackly', '12-count', 'pear', '26cm', 'continure', 'low-med', 'longer', 'least', 'carmelise', 'according', 'almost', 'scratch', 'darken', 'filet', '5-8', 'positon', 'pinch', 'recommend', 'smells', '10-ounce', '-preheat', 'mug', 'crust', 'paint', 'pickling', 'render', 'chestnut', 'clump', 'crystallized', 'depend', 'able', 'bamboo', 'machine', 'drink', 'pickles', 'springs', 'olive', 'begining', 'fine', 'shallow', 'formed', 'cumin', 'ratio', 'proportional', 'seriously', 'this', 'remains', 'wider', 'milk', 'noodle', 'manufacturer', 'turned', 'pouring', 'jack', 'blowing', 'sprite', 'oval', 'whisky', 'recommendations', 'jalapeno', 'bricks', 'pico', 'hulled', 'ad', 'marjoram', 'oatmeal', 'meringues', 'meet', 'matzos', '175f', 'syup', 'retain', 'burgundy', '420', '3-', 'of', 'spring-form', 'crumbled', 'season', 'papaya', 'broil', 'yakisoba', 'dips', 'bread', 'chestnuts', 'besides', 'chaat', 'oblong', 'cut-up', 'crack', 'said', '375degrees', 'soome', 'hig', 'garlicky', 'agar', 'chex', 'unpackage', 'beurre', 'blackened', 'hurricane', 'blending', 'if', 'matchsticks', 'inot', 'shrooms', 'jigg', 'toffee', 'kiwifruit', 'swell', 'tblspn', 'loaves', 'slow', '-topping', 'whizz', 'cutlets', 'pepepr', 'using', 'distribute', 'cuisinart', 'remain', 'cakes', 'ingredinets', 'ziploc', 'previously', 'maximum', '400f', '4-1', 'sake', 'biga', 'flame', 'pail', 'brushing', 'second', 'albers', 'tomatoesand', 'preperatory', 'flavorings', 'cleaver', 'eye', 'without', 'casseroles', 'method', 'goose', 'baked', 'lenthwise', '460', '8in', 'pre-heat', 'example', 'pliable', 'ove', 'first', 'chives', 'tab', 'smoker', 'reside', 'hook', 'helps', 'porchini', 'dump', 'freezer-proof', 'sauteing', 'fyi', 'cleaned', 'hair', 'brown-', 'sturdy', 'kraft', '5-qt', 'post', 'almunim', 'heck', 'quality', 'lokshyna', 'eggbeaters', 'fl', 'softened', 'crescent', 'sun-dried', 'tablespoons', 'yield', 'crispness', 'begin-', 'wear', 'oils', 'explode', 'tagine', '375c', 'neatly', 'spooning', 'thirds', 'my', 'creminis', 'rol', 'fat', 'fava', 'toddler-safe', 'fritters', '9x12', '30-60', 'crispiness', 'being', 'phyllo', 'limeade', 'silk', 'racks', 'marshmallow', 'whose', 'chipotle', 'thought', 'celsius', 'chickens', 'preparationplace', '3-6', 'nonpareils', 'pheasant', 'sautee', 'liquidizer', '410', 'less', 'lye', 'souffle', 'alternately', 'carambola', 'short', 'mound', 'oxidizing', 'smashed', 'shot', 'malted', '12-cup', 'aquires', 'deveine', 'paprikas', 'teaspoons', 'prehaet', 'rinses', 'roasted', 'transluscent', 'mins', 'cooling', '36', 'scraping', 'netting', 'lump-free', 'vertically', 'peel', 'gritty', 'item', 'move', 'bulghur', 'watermelon', 'skips', 'pierogi', 'thickest', 'expensive', 'rockmelon', 'automatic', 'infused', 'northern', 'spaghetti', 'shots', 'vital', 'ltr', 'meduim', 'defrees', 'pitas', 'immerse', 'low-medium', 'liqeuors', 'lasagne', 'thicken', 'halve', 'colored', 'dry', 'desserts', 'gourmet', 'sterilize', '5-7', 'earth', 'slaw', 'vegtables', 'ok', 'thinkness', 'mayonaise', '24cm', 'soft', 'flt', 'boards', 'micro-safe', 'preheating', 'batch', 'pesto', 'prime', 'bi-carb', 'lem', 'x2', 'separate', 'cheddar', '1-2', 'paddle', '7up', 'tender-crisp', 'scones', 'sinking', 'water', 'tartlet', 'flavors', 'rehydrate', '28cm', 'low-heat', 'weigh', 'instruction', 'vanilla-', 'minimuffin', 'cavity', 'frosting', 'debris', 'krispies', 'filters', 'perimeter', 'drain', 'tom', 'asafoetida', 'noncorrosive', \"'doneness\", 'salting', 'tossing', 'cachaca', '12-ounce', 'amout', 'fulling', 'suggest', 'liquid', 'fish', 'tapioca', 'lemon-if', 'distributed', 'oiled', 'blended', 'are', 'boneless', '7-inch', 'arrive', 'volume', 'yet', 'rag', 'arranged', 'fixing', '2-pound', 'lay', 'preparingthe', '--', 'ingrients', 'intensity', 'kahlua', 'crimp', '-gumbo', 'trim', 'tinfoil', 'al-hanout', 'slicer', 'breads', 'saucepen', 'angle', 'casserole', 'kale', 'merge', 'chunky', 'pre-cook', 'cm', 'pectin', 'mini-chopper', 'going', 'started', 'miracle', 'spelt', 'pressing', 'burritos', 'peeling', 'last', 'setting', 'medum-sized', 'cavatappi', 'opposite', '300ml', 'dashi', 'inch-wide', 'winter', '4-6', 'ingrendients', 'addition', 'powdered', 'crisp', 'decreased', 'defrost', 'southern', 'consistancy', 'monde', 'combune', 'thickens', 'plastic', 'five-spice', 'serrated', 'papers', 'interval', 'whipped', 'disjoint', 'tomatos', 'curry', 'nedium', 'tequilla', 'nopalitos', 'labels', 'ml', 'cinnamon', 'scrape', 'redcurrant', 'char', 'sifted', 'overmix', 'precisely', 'smooch', 'dove', 'moderately', 'pound', 'triple-wash', 'basic', 'zippered', 'refrigerated', 'wine', 'bars', 'challah', '150c', 'draw', 'cobbler', 'garnish', 'heads', 'pips', 'marinades', '230', 'omelette', 'shred', 'meatballs-mix', 'reese', 'sesame', 'saki', 'first-', 'rhubarb', 'unser', 'weargloves', 'th', 'gloves', 'yummy', 'avocadoes', '135f', 'based', 'cracked', 'any', 'bull', 'injector', '1-8', 'non-aluminum', 'wrapped', 'ziti', '3-cup', 'lefse', 'blistered', 'pith', 'mandolin', '450mls', '1-inch', 'bran', 'favorite', 'cup', 'thicker', 'wontons', '730', 'thermometer', 'zip', 'unbleached', 'cornmeal', 'spary', 'sandwich', 'opaque', 'nasturtium', 'oats', 'bowl', 'gallon-size', 'swish', 'fry', 'color', 'snickers', 'in-between', 'canner', 'milo', 'doneness', 'beating', 'locker', 'oyster', 'mulling', 'brocolli', 'recommendation', 'granulated', 'during', 'x', 'lettuce', 'refrigerate', 'folding', 'instead', 'grates', 'ingredeints', 'dal', 'mixture', 'plaace', 'orange', 'shrivled', 'pepperoni', 'lenghthwise', 'combin', 'tava', 'rightaway', 'cloves', 'cilanto', 'bulbs', 'resembles', 'mint-chocolate', 'bins', 'transparent', 'birds', 'halibut', 'half-inch', 'raise', '&', 'cuts', 'uses', 'dhal', 'panini', 'florets', 'virgin', 'preceding', 'previous', 'translucent', 'daiquiri', 'pumpkin', 'fines', 'diamond', 'powders', 'yields', 'kamut', 'strained', 'way', 'fitting', 'muslin', 'machines', 'marbles', 'fraiche', 'stays', 'salt-', 'ala', 'immediately', 'fork', 'salsa', 'cinnamon-flavored', 'melting', 'sloped', '8-ounce', 'estimated', 'turnips', 'assembled', '6-cup', 'madeira', 'attractively', 'chard', 'giblets', 'leafless', '70-80', 'jarlsberg', 'twinkies', 'im', 'grinds', 'chimichurri', 'incorporating', 'plank', 'crisco', 'baller', 'aside', 'quick', 'foam', '175ml', 'closest', 'prehest', 'bowel', 'millie', 'check', 'damn', 'peppers', 'aples', 'bbc2', 'spread', '1-in', 'husk', 'especially', '754', 'cod', 'evening', 'section', 'starting', 'packaged', 'germ', 'throw', 'softens', 'much', 'holiday', 'roughy', '250f', 'bubbling', 'comfort', 'checca', 'corriander', 'ware', 'sliced', 'spoons', 'watermix', 'coleslaw', 'mashed', 'paste', 'palm', 'stove', 'mung', 'avacado', 'carob', '60', 'seams', '9x5x3-inch', 'berries', 'bun', 'minimun', 'seltzer', 'quantities', 'puff', 'form', 'crowding', 'dehydrated', 'firmly', 'prehart', 'parmesan', 'prawns', '250c', 'reggiano', 'filberts', 'blackberry', 'garbanzo', 'habaneros', '12-24', 'fill', 'pour', 'farmer', 'temperature', 'nog', 'white', 'sturgeon', 'earthenware', '325f', 'chipotles', 'caster', 'placing', 'face', 'wedge', 'cutlet', 'destem', 'inches', 'stir-fry', '4-', '387518', 'hand-blender', 'frozenbun', 'bone', 'flaky', '350', '3t', '#', 'kind', 'pimentos', 'chillies', 'time', 'toward', 'flank', 'height', 'mcd', '300f', 'ones', '175degf', 'wood-ash', 'combination', 'loan', 'dog', 'strips-', 'saucepans', 'swill', 'oeven', 'med-high', 'quark', 'enamel', 'splah', 'reserving', 'centers', 'surfaced', 'separately', 'pans', 'pan', 'actual', 'liquours', 'seperately', '|stir', 'kernel', 'fireweed', 'forms', 'result', 'well-seasoned', 'cicln', 'short-side', 'rough', 'begin', 'okras', 'cookware', 'coursely', 'bologna', 'blue', 'corer', 'degrees-', 'mandarin', 'bonnet', 'grain', 'oregano', 'watercress', 'creations', 'breats', 'skim', 'non-reactive', 'pink', 'one-cup', 'wok', ',', 'mayo', 'nuggets', 'spaghettini', 'slabs', 'untoasted', 'crumbles', 'chopper', 'romaine', '57', 'gorgonzola', 'directed', 'poltry', 'cups-', 'morning', 'broccoli', 'harina', 'lowest', 'tenderize', 'cracker', 'rectangular', 'outdoor', 'ix', 'to', 'dried', 'peanut', 'seeds', 'fahrneheit', 'refrigeration', 'amt', 'holder', 'tubes', 'patted', 'kefir', 'chops', 'beets', 'slurry', 'yeast', 'disgarding', 'programme', 'potobello', 'grapes', 'dropping', 'bruise', 'home-made', 'sundaes', 'preparation', 'poaching', 'steps', 'suggests', '6-oz', 'date', 'oil-wipe', 'scallions', 'among', 'handling', 'follows', 'house', 'scramble', 'anginette', 'levels', 'clings', 'peels', 'breath', '48', 'baguettes', 'guacamole', 'pare', 'skewers', 'portabella', 'wineglass', 'twine', 'buckwheat', 'variations', 'pillow', 'ciabatta', 'square', '15x10', 'rind', 'brownie', 'twelve', 'into', 'colours', 'essential', 'bowties', 'cardamom', 'dairy', 'skins', 'cup-capacity', 'shimmering', 'elbows', '1place', 'lime-garlic', 'parmentier', 'just-boiled', 'sticks', 'chips', 'colour', '1c', 'bla', 'gas', 'thinnly', '9-by-13-inch', 'similar', 'tofuand', '400^f', 'basically', 'obviously', 'darkened', 'hummus', 'granules', 'creamy', 'manner', 'reason', 'continuously', 'escarole', 'manie', 'scalded', 'veg', 'smoking', 'erserving', 'bladed', 'espresso', 'closer', 'acc', 'largest', 'ventilation', '120f-130f', 'tenderizing', 'arepa', 'sprigs', 'substitutes', 'early', 'brewed', 'goldschlager', 'incision', 'mortar', 'whirr', 'vinaigretted', 'blendedmash', 'sprout', 'mini-chop', 'darkness', 'chiltomate', 'cherries', 'sweetness', 'halloumi', 'smaller', 'pan-fry', 'jackets', 'med-hi', '10x15', 'new', 'scoop', 'slightly', 'measure', 'upper-middle', 'tap', 'fondue', 'pint-size', 'hold', 'turnip', 'flour-like', 'bite-size', 'greased', 'udon', 'release', 'planks', 'litres', 'bowl-stirred', 'slow-cooked', '320f', '15x10x1-inch', 'teflon', 'their', 'whole-wheat', 'fresno', 'jack-o-lantern', 'perfectly', 'biggest', 'mingle', 'long', 'sludgy', 'coloring', '11x7', 'smallish', 'very', 'lumpy', 'milks', '2-4', 'cooler', 'gherkins', 'poured', 'sifting', '185', 'chiles', 'foamy', '18x12-inch', 'pineapples', 'powder', 'proceed', 'chorizo', 'oat', 'lentils', 'below', '5-10', 'risotto', 'serrano', 'overhang', 'zigzag', 'tray', 'karo', 'stout', 'alternative', 'cupcake', 'trimmings', 'de-bone', 'hundred', 'port', 'wing', 'tequila', 'lima', 'pinches', 'aldente', 'gingersnaps', '14oz', '13inch', 'ingreients', 'microplane', 'double', 'measurement', 'picnic', 'x5', 'diced', 'stock', 'cream', 'batter', 'pit', 'gnocchi', '2-cup', '24-count', 'boil', '9-inch', 'regular-size', 'third', 'alcohol', 'refridgerator', '2-layer', 'canning', 'heated', '360f', 'deeply', 'underneath', 'hocks', 'family', 'unwanted', 'ghee', 'teabags', '9-13', 'sticy', 'straining', 'minsuntil', '11-inch', 'cucumber', 'roaster', 'unril', '165', 'dutch', 'vertical', 'purie', 'resealable', 'doing', 'cognac', 'almonds', '50-60', 'appox', 'home', 'mixes', 'instructionsfor', 'length-wise', 'flatter', 'rubbing', '[', 'hydodermic', 'adobo', 'rutabaga', 'coloured', 'hummous', 'polish', 'clementines', 'back', 'msg', 'wanter', '-measure', 'working', 'lifting', 'onto', 'on', 'rinse', 'fryer', 'night', 'collapses', 'pre-heating', 'coins', 'lengthways', 'indoor', 'linguini', 'caught', 'cautious', 'potaoes', 'processed', 'maraschino', 'even-sized', 'brush', '9x13', 'taco', 'places', 'tots', 'sotened', 'mintes', 'di', 'knox', 'shortning', 'chosen', 'gently', 'covered', 'curaao', 'effect', 'adjusting', 'omto', 'glass', 'swanson', 'stated', 'roasting', 'sage', 'squasheds', 'items', 'cups', 'easy', 'unthawed', 'mixer', 'mellow', '139', 'fettuccine', 'whistle', 'chopping', 'most', 'mugs', 'fabric', 'prefered', 'packing', 'assemble', 'slushy', 'cantaloupe', 'dill', 'peeler', 'rim', 'pasta-', 'poppy', '190', 'onons', 'linguines', 'kiwi', 'shredder', 'cook', 'puffed', 'foor', 'lbs', 'shakes', 'still', 'casing', 'eggs', '_x_', '13-x9-inch', '390f', 'accommodate', 'galangal', 'drop', 'yolkwith', 'stirring', 'glassy', 'hambuger', 'results', 'towel', 'bulb', 'homemade', 'such', 'irish', 'pan-fried', 'begun', 'rose', 'mould', '110f', 'stovetop', 'extends', 'seconds', 'dg', 'lage', 'sides', 'beater', 'control', 'cellophane', 'string', 'buns', 'richest', 'cask', 'stab', 'half-pint', 'renders', 'dilute', '360ml', 'leggo', 'pepare', 'youre', 'alice', 'reduced', 'vegetables-', 'non-stick', 'vegetable', 'grape', 'toasty', 'scrubbing', 'pastry', '220oc', 'salad', 'semi-sweet', '-high', 'molasses', 'ends', 'creating', 'tassies', 'clams', 'preset', 'dish', '140c', 'saucer', 'rocks', 'eagle', 'entry', 'sing', 'kettle', 'silverside', '1-1', 'select', 'sizzling', 'choi', 'blot', 'cooker', '8-qt', '8-cup', 'ale', 'al-dente', 'darkens', 'juniper', 'spun', 'danish', 'garlic', 'drain-', 'lakes', 'ready-crust', \"'stir\", 'strps', '13x9x2', 'whites', 'prior', 'puree', 'crockpot', 'menthe', 'peele', 'g', 'shape', 'ziplock', 'checkerboard', 'child', 'herbs', 'shredding', 'wakame', '%', 'kisses', 'opener', 'bark', 'overall', 'fix', 'fettucine', 'panfry', 'merangue', 'tortellini', 'tuna', 'shrimp', 'thigh', 'dredge', 'steel', 'beautiful', 'juice-this', 'over', 'sixths', ']', 'golf', 'flipping', 'anywhere', 'tub', 'oxtail', 'caramel', 'extaract', 'turmeric', 'lighter', 'cans', 'i', 'pastrami', 'slot', 'sauteeing', 'medium-high', 'b', 'reheat', 'rince', '140', 'body', 'kebabs', 'craft', 'prebake', 'club', 'decrease', 'fructose', 'jelly', 'except', 'vegetables', 'sweating', 'inthe', 'sealed', '9-x-5-inch', 'ramekins', 'case', 'shown', 'potatos', 'juice', 'semisweet', 'leave', 'tight-fitting', 'bouillon', 'marinated', 'enjoy', 'campsite', 'folded', 'links', 'poach', 'salts', 'days', 'stationary', 'carots', 'slip', 'chutney', 'turner', 'kids', 'barley', 'theoven', 'pockets', '5-1', 'by', 'marmite', '17', 'burner', 'spill', 'jell-o', 'simple', 'membrane', 'vert', 'margarine', 'foaming', 'hotdog', 'translucent15-20', 'pretzel', 'crystallizes', 'amarula', 'gentle', 'often', 'frank', 'custard', 'skew', 'x13', 'partway', 'spice', 'equivilant', 'bottom-of-the-bowl', 'runs', 'marinara', 'steelhead', 'identifiable', 'sizzle', 'squirts', 'hope', 'rejuvelac', 'herbed', 'marmalade', 'optional', 'decorate', 'lrg', 'campfire', 'butte', 'wont', 'arthur', 'root', 'mini', 'heat-drain', 'thin', 'onions', 'rows', 'grocery', 'mircowave-safe', 'gatorade', 'tenderloins', 'unsprayed', 'crackle', 'dijon', 'grits', 'hours', 'otherwise', 'mussels', 'boboli', 'afterwards', 'pomegranate', 'abundant', 'saucepat', 'blade', 'inevitable', 'tabasco', 'fork-tender', 'uncle', 'simmer', 'holding', 'loc', 'well-combined', 'driected', '210c', 'handful', 'liquids', 're-form', 'protein', 'lemongrass', '300of', 'aquare', 'spatzle', 'toppings', 'tv', 'unflavored', 'non-metallic', 'indirect-heat', 'several', 'safe', \"'marinade\", 'non-dairy', 'cast', 'thin-and-crispy', 'pulverized', 'jelly-roll', 'opt', 'celery', 'browning', '88x2', 'oamc', 'measured', 'cabbages', '8-quart', 'postition', 'dices', 'brussels', 'kuchen', '190oc-200oc', 'utility', 'eggplant', 'parmazano', 'bangers', 'grandma', '175c', 'moto', 'falls', 'blah', 'fourths', 'cupcakes', 'splash', 'blanche', 'hollowing', 'guavas', 'ranch', 'sputter', 'removed', 'forks', 'tuck', 'moist', 'edges', \"'bill\", 'pouch', 'tender-', 'champagne', 'tidbits', 'angel', '8x4', 'strength', 'so', 'next', 'teriaki', 'peppercorns', 'air-tight', 'water-do', 'soysauce', 'blanch', 'savoury', 'sprayed', 'minuts', 'beat', 'smash', 'springform', 'rump', 'packaging', 'clove', 'although', 'scant', 'there', 'screw', 'gruyere', 'oreos', 'bass', '190c', 'nescaf', 'peri', 'brown-butter', 'salisbury', 'miso', 'hotel', 'rotelli', 'spoil', 'fan-forced', 'manual', 'liter', 'prpeare', 't', 'spot', 'lightly-greased', 'added', 'zucchini', 'twisted', '81', 'wisk', 'approximately', '475', 'octopus', 'moves', 'choy', 'splashes', 'joint', '-except', 'breadcrumb', 'nuke', 'waxed', '20-', 'secret', 'hopper', 'pluck', 'seasonall', 'edamame', 'prunes', 'beland', 'pint-sized', 'filling-preheat', 'homogeneous', 'kofta', 'liners', 'ninths', 'temp', 'all-purpose', '25mins', 'spray', 'foams', 'three', 'cover', 'innards', 'creole', 'camping', 'snug', 'vs', 'oily', 'scooping', 'spead', 'strong', '180c', 'indentation', 'toothpick', 'side', 'cashews', 'microwave-safe', 'shortening', 'thighs', 'haze', 'interesting', 'minutes', 'kohlrabi', 'scone', 'hull', 'streusel', 'because', 'choice', 'holes', 'resting', 'pecan', 'follow', 'pinto', '215', 'ziptop', 'quickly', 'quart-sized', 'heavy-based', 'basin', 'dispersed', 'year', 'cartilage', 'contents', '10in', 'cubed', 'quantity', 'puncture', 'support', '13x9-in', 'distilled', 'before', 'm', '40', '5-pound', 'free', 'cran-raspberry', 'food-processor', 'skewer', 'carrots', '309834', 'both', 'franks', 'assorted', 'depends', 'leftover', 'sauerkraut', 'skip', 'ingredience', 'blackens', 'one-inch', 'mushroooms', 'feels', 'increased', 'dregees', '41', 'replace', 'obtain', '9-by-5-inch', 'wilt', 'powerful', 'mashable', 'bit', 'croissant', 'eleven', 'combien', 'exterior', 'cereals', 'masa', 'twenty-four', 'loaded', 'tough', 'pausing', 'mini-loaf', 'under', 'tartar', 'bright', 'chucks', 'toasted', '13x5', 'blenderize', 'muscle', 'bother', 'degree', 'recommended', 'mustards', 'pepper', 'tomatoes', 'charcoal', 'runoff', 'degreesf', 'starch', 'lidf', 'pe-heat', 'pyrex', 'recommends', 'tongs', 'marinade-combine', 'aubergine', 'tsbp', '6x6x3inches', 'non-', 'drummettes', 'par-boil', 'claws', 'separating', 'sauce-pan', 'snicker', '28', 'handle', 'level', 'fit', '15x10-inch', 'drying', 'bullet', 'squeezing', 'potential', 'scar', 'overwhelmingly', 'dist', 'whipping', 'commercial', 'jalapenos', 'segments', 'keep', 'sprinkle', 'faucet', 'yourself', 'knob', 'russet', 'limp', 'halves', 'comgine', 'heightwise', 'lge', 'heating', 'head', '2-3-quart', 'mesh', 'mushy', 'tiny', 'looks', '16', 'sprinklng', 'definitely', 'decent', 'beef', 'rounds', 'jar', 'saut', 'dice', 'precooked', 'fiercest', '-in', 'same', 'own', 'pack', 'handles', 'flax', 'cooled', 'bite', 'triangles', 'within', 'tapped', '350-400', 'vindaloo', 'french', 'german', 'save', 'wheels', 'failing', 'minute-', 'chute', 'chamomile', '1-qt', 'broken', 'saute', 'flute', 'maria', 'striped', 'remainder', 'amd', 'tamarillos', 'pancakes', 'hydrated', 'untilfluffy', 'lone', 'yoplait', 'lining', 'manocotti', 'treat', 'bundles', 'feathers', 'duck', 'zuccini', '30-minutes', 'deep-frying', 'lemony', 'makes', 'content', 'untill', 'gelatine', 'sections', 'meringue', 'has', '+', 'ka', 'gound', 'stops', 'convection', 'rolls', '500f', 'solids', 'pimientos', 'warmed', 'off', 'loses', 'pumice', 'honey', 'reached', 'black-eye', 'pistachios', 'teaspoonfuls', 'log', 'catfish', 'billed', 'filter-lined', 'margrin', 'browned', 'toddy', 'ww', 'tiger', 'n', 'rectangle', 'veal', 'parchment', 'fruits', 'bind', 'aoli', 'cookin', 'malt', 'curd', 'undiluted', 'mode', 'allowing', 'sean', 'chili-garlic', 'caked', 'pointing', 'finally', 'rare', 'slather', 'glazed', 'those', 'cocktail', '9-inch-diameter', 'stems', 'shoyu', 'compress', 'paste-like', '6-', 'other', 'sprinkles', 'overlap', 'tamarind', 'lawry', 'degreed', 'cool', 'bratwurst', 'crustless', 'prawn', 'capsicums', 'steak', 'cold-running', 'pistou-in', 'fridge', 'tin', 'philly', 'wring', 'bed', 'marinating', 'removing', 'filled', 'easily', 'x1', '8x8', '11', 'flame-roast', '115', 'meatballs', 'china', 'fan', 'griddle', 'chinese', 'internal', 'kathie', 'gallon', 'breadcrubms', 'guests', 'spices', 'gluten', '450-degree', 'skinned', 'really', 'gathers', '9-by-12', 'break', 'whack', 'fingers', '500-degrees', 'book', 'hanging', 'letting', 'okra', 'breakfast', 'flat', 'seam', 'pannacotta', 'bread-', 'faint', 'careful', 'splenda', 'camp', '10-1', 'carbonated', 'mace', 'onion', 'dust', 'crme', 'steam', 'seer', '-to', 'fibrous', 'undercooked', 'summer', 'joints', 'meatless', 'saucepan', 'cloudy', 'bulgar', 'pea', 'boullion', 'tins', 'herb', 'boning', 'continued', 'bitterness', 'pinenuts', 'broth', 'grinder', 'cleanup', 'magic', 'unit', 'drip', 'steamed', 'intend', 'options', '13x9-ince', 'kernals', '425-degrees', 'hamburger', 'mutton', 'reserve', 'normal', '170c', '30-40min', 'hard-boiled', 'quesadilla', 'hand', 'coated', '30358', 'filo', 'berrie', 'emulsion', 'sauces', 'chunked', 'past', 'cored', 'heatproof', '4cm', 'drizzle', 'romano', 'tb', 'highest', 'currant', 'sideboys', 'adobe', 'directs', 'mini-processor', 'about', 'paper-', 'objects', 'skillets', 'turns', 'unseasoned', 'spoiled', 'chianti', 'scallion', 'sweetened', 'you', 'vigorously', '20cm', 'rum', 'lavender', 'circle', 'weed', '2-tablespoon', 'enchilada', 'hea', 'rinsing', 'freezing', 'myers', 'every', 'sunsets', 'theyre', 'weight', 'wafers', 'substitution', 'sweeter', 'grounded', '425f', 'stirfry', 'alternatively', 'fun', 'wrote', '30-40', 'cataplana', '-quart', 'hrs', 'noodles', 'braunschweiger', 'husks', '6cm', 'liquifier', 'veinegar', 'texas', 'bunt', 'pizzas', 'variation', '125c', 'grate', 'bottom', 'velveeta', 'sponges', 'straight-sided', 'exception', 'knead', 'am', 'merlot', 'firstly', 'neely', 'oj', 'infusion', 'corning', 'beards', 'soften', 'youll', 'grade', 'cling', 'spirits', 'fiber', 'nine', 'tamales', '9x9', 'ball', 'stick-blender', 'dressing-', 'mill', 'prosesser', 'vary', 'cycle', 'perfect', 'license', 'nonstick', 'shallot', 'crock', '8-', 'special', 'celcius', 'peics', 'byb', 'hazelnut', 'ensure', 'rib', 'instructions', 'popover', 'tilt', '13-', 'diagonal', 'flameproof', 'duringthe', 'purchase', 'au', 'salt', 'thats', 'smoked', '325-degree', 'flours', 'rubber', 'litre', 'xanthan', 'zatarain', 'spinach', 'bouquet', 'haricots', 'success', 'coco', 'flavoured', 'self', 'evoo', 'slash', 'navy', 'three-quarters', 'called', 'scallopini', '220c', '-cook', 'rye', 'bok', 'urad', 'mixng', 'souffl', 'med-low', 'larger', 'practical', 'coca', 'is', 'pounds', 'adjust', 'packed', 'best', 'gram', 'masher', 'garnis', 'pick', 'ev', 'soil', '30-second', 'thickness', 'neat', 'diamonds', 'airtight', 'allows', '40265', 'guar', 'width', 'ovenproof', 'adult', 'ingredients', 'candied', 'disappeared', 'yogourt', 'dusting', 'elderflower', 'stilton', 'wonton', 'few', 'pieces', 'liver', 'course', 'divide', 'kidneys', 'inside', 'cranberry-orange', 'should', 'dumpling', 'savory', 'cornsilk', 'abodo', 'seven', 'what', 'sufficient', 'nozzled', 'wasting', 'soda', 'filets', 'inc', 'ingreedients', 'middle', '340f', 'cilantro', 'cross', 'kubbeh', 'exess', 'shoe', 'manufactures', 'curacao', 'coulis', 'leaves', 'served', 'clarified', 'sprouts', 'shao', '8', 'spoon', 'crush', 'shake', 'tacos', 'jalape', 'punch', 'them', 'frosted', 'butt', 'persimmon', 'tbsp', 'no', 'mark7', 'soap', 'hoisin', 'fettucini', 'monterey', 'overnight', 'marie', 'abm', 'spraying', 'mousse', '13x9-inch', 'ounces', 'anything', 'chef', 'bulk', 'ducth', 'defrosting', 'liner', 'slanting', 'skilled', 'zinger', '@', 'fancy', 'minutes-', 'gobs', 'found', 'salmon', 'tinged', 'larg', 'dissoved', 'pitcher', 'skirlie', 'sticky', 'airy', 'ridges', 'shell', 'minimum', 'margin', 'raising', 'dat', 'border', 'equal-sized', 'wooden', 'particular', '2-inches', 'foccacia', 'tuperware', 'highly', 'wings', 'aromatic', 'bowl-basically', 'processer', 'coarsely', 'sour', 'fritter-', 'flake', 'sinew', 'discarding', 'junket', 'peeking', 'pieces-', '12-inch', 'gouda', 'find', 'vessel', '-cinnamonraisin', 'old-fashion', 'bubbles', \"till'very\", 'these', 'asks', 'vein', 'vodka', 'depression', 'fluted', 'vermouth', 'pre-warmed', 'right', 'partly', 'that', 'prheat', 'jalapeo', 'mezzaluna', 'green', 'aluminum', 'syringe', 'crumb', 'margarita', 'tongues', 'durkee', 'following', '2x10', 'hots', 'cores', 'combined', 'slicing', 'sided', 'crystals', '25-30', '200g', 'sauce', 'fries', 'aid', 'cubing', 'computer', 'absorbed', 'xylitol', 'shapes', 'greaseproof', 'advance', 'gallons', '1015x1', 'ease', 'mediuim', 'empty', 'horseradish', 'flatten', 'qrt', 'peeled', 'jumbo', 'smoothy', 'banana', 'unflavoured', 'samn', '0', 'degres', '2x1', 'lids', 'total', 'timet', '8x12', 'pure', 'sriracha', 'cleaning', '35', 'mid-high', 'snapping', 'sear', 'quiche', 'biscuit', 'silpat', 'nero', 'kebab', 'stand', 'radicchio', 'degrres', 'enameled', 'succotash', 'health', 'light', 'block', 'buttered', 'thinner', 'stroke', 'monty', 'buds', 'turkey', 'seseme', 'sink', 'dozen', 'walnut', 'strain', 'name', 'truffles', 'alumna', 'daikon', 'spoke', 'nectarines', 'ect', 'compote', 'nam', 'farenheit', 'too', 'vagueness', 'well-cooked', 'pheasants', 'almond', 'listed', 'shy', 'hotdogs', 'yum', 'sheet', 'good', 'measusure', 'vodkayou', 'grit', 'proccessor', 'prick', 'tomatillo', 'split', 'pork', '227473', 'easier', '10-quart', 'froth', 'chilies', 'reach', '15-20', 'ingerdients', 'bundt', 'price', 'zap', '8oz', 'spring', 'candy', 'do-ahead', 'adding', 'eyes', 'try', 'extracts', 'how', 'inserted', 'until', '300-degrees', '13x9x2-inch', 'fragrant', 'rigatoni', 'equally', 'latter', 'schnapps', 'accent', 'inch', 'recipe', 'mushrooms', 'wire', 'glide', '325-degrees', 'stockpan', 'pudding', 'saltine', 'shop', 'tofu', 'gravy', 'marg', 'guestimate', 'spin', 'cour', 'evaporated', 'eveything', 'reactive', 'set-up', 'button', '-toprepare', 'simmers', 'butcher', '1hr', 'submerging', 'rotissiere', 'funnel', 'half-rounds', 'pasta', 'cruet', 'local', 'two-or', 'promptly', 'washed', 'stop', 'rapidly', 'shaping', 'flavored', 'done', 'sirloin', 'produce', 'jalapenoes', 'shuck', 'recipe-', 'eighths', '300c', 'greens', 'comine', 'jambalaya', 'bragg', 'crackers', 'zwieback', 'preserves', 'including', 'ketchup', 'works', 'gone', 'flounder', 'mixer-beat', 'thousands', 'picking', '9cm-deep', 'slowcooker', 'salted', 'concentrate', 'furst', 'further', '200', 'covering', 'presoak', '210', 'mac', 'shin', 'circles', 'chick', 'perogies', 'explain', 'tea', 'unblanched', 'peppercors', 'mallet', 'worcesteshire', 'prewash', 'saffron', 'lobsters', 'bar-b-q', '-up', 'snap', 'mapeline', 'foil-', 'buying', '8-inch-square', 'unil', 'bud', 'somewhat', 'baguette', 'anise', 'coffin', '175', 'rabbit', 'brats', '10-', 'preference', 'camembert', 'milk-', 'egg', 'chill', 'bake', 'cantaloupes', \"'m\", 'hot-to-the-touch', 'sissors', 'when', 'dance', 'lilies', 'court', 'pk', 'scallops', 'blend', 'blanching', 'catsup', 'broiling', 'smoother', 'oinion', 'briefly', 'area', 'heate', 'posting', 'bird', 'plain', 'thread', 'dicing', 'double-strength', 'allow', 'clumps', 'barbecue', 'minced', 'chow', 'scrub', 'bouquette', 'ingrediets', 'published', 'veins', 'hog', 'popcorn', 'types', 'widthwise', 'yes', 'bulger', 'crosswise', 'cheerios', 'benefits', 'barely', ':', 'spreadable', 'insturcted', 'pre-', 'leaf', 'storing', 'mixing', 'smokng', 'sachet', 'ito', 'grand', 'lardon', 'feeds', '5-6', 'wish-this', 'mediun', 'halfway', 'tumerik', '50g', 'bugles', 'lemonade', 'board', 'store-bought', 'thaw', 'bamba', 'pepperoncini', 'caution', 'gingeroot', 'basket', 'tarragon', 'discard', 'neufchatel', 'two-burner', 'technique', 'score', 'squashes', 'royal', 'braise', 'glutinous', 'morels', 'curried', 'chunkiness', 'involved', 'frie', 'cob', '12-hole', 'silken', 'ramen', 'scales', 'clementine', 'mini-prep', 'besan', 'follows-', 'his', 'sunflower', '1lb', 'strawberrys', 'confectioners', 'start', 'slits', '315df', 'raw', 'blossom', 'steamer', 'diagongally', 'guava', 'balance', 'ramekin', 'pumpkins', 'culture', 'carmelizing', 'mark-do', 'pineapple-rum', 'a', 'facial', 'tang', 'acording', 'skin', 'will', 'absolute', '2-tablespoons', 'around', '500', 'dab', '2t', 'plumped', 'dipped', 'accompaniments', 'macaroon', 'industrial', 'loose', 'fructevia', 'loosely', 'always', 'presentation', 'unfilled', 'low', 'grenadine', 'platetofu', 'midribs', 'jalepeno', 'bown', 'wo', 'twice', 'loaf', 'everything', 'absorbent', 'needle', 'carefully', 'tbsps', 'butterfly', 'peices', 'jars', 'verde', 'apples', 'worcestershire', 'acorn', 'where', 'hen', 'blocks', 'holds', 'allspice', 'krimpets', 'chest', 'develop', 'bloody', 'charmoula', 'semolina', 'trash', 'tie', 'omit', 'craisins', 'blender', 'make-a-roux', 'pin', 'mature', 'artfully', 'oven-safe', 'visible', 'lobster', 'dishwasher', '400^', 'shriveled', 'ambiance', 'hazelnuts', 'batches', 'pizza', 'add', 'cheese-cloth', 'bows', 'quarter', 'fatback', 'meld', 'ts', 'immersion', 'stir', 'reserved', 'disks', 'ties', 'pumpkin-pie', 'remaining', 'parts', 'barbeque', '20', 'lasagna', 'anaheim', 'warning', 'stew', '18x28cm', 'flush', 'balled', 'adults', 'thawing', 'blanched', '1-cup', 'white-wine', '9x', 'o', 'frizzled', 'farro', 'swung', 'key', 'arms', 'soon', '8x8x2-inch', 'use', 'mochiko', 'paper-thin', 'flat-bottomed', 'recipes', 'stiring', 'jerk', 'jamaican', '2-to', 'shimmers', 'bug', 'fruit', 'minus', 'tart', 'cuz', 'nectar', 'piecrusts', 'shears', '350ff', 'oi', 'mashmallow', 'dropped', 'running', '45', '2-', '3cm', 'bias', 'instructed', '750ml', '500gr', 'press', 'flout', '130', '8x8x2', 'flour', 'malleable', 'macadamia', 'ending', '10x6', 'frypan', 'grapefruits', 'decide', 'sherry', 'bay', '50', 'tedious', 'mariner', 'snip', 'macaroni', 'controlled', 'crusts', 'plug', 'steaks', 'object', 'crushed', 'elk', 'portions', 'habanero', 'disaronno', 'rinsed', 'shorting', \"7'x3'x2\", 'toll', 'flowerets', 'sourcream', 'consistently', 'sugared', 'vent', 'create', 'indgredients', 'eyed', '5-cup', 'ingreduents', 'reasonably', 'het', 'chanterelles', 'itself', 'uncovered', 'gauge', 'baste', 'oven-proof', 'work', 'apprx', 'various', 'coarse-ground', 'real', 'soaking', 'arugula', 'lemons', 'do', 'winged', 'sizes', 'airthight', 'pod', 'firmer', 'down', '8-12', 'chipped', 'zip-lock', 'promegranate', 'chickpea', 'six', 'tail', 'uniformly', 'paper-towel-lined', 'caramelized', 'condiments', 'occassionally', '75c', 'melonballer', 'finished', 'marsala', 'essence', 'strawberries', 'for', 'lamb', 'redfish', 'cranberry', 'scoops', 'buttermilk', 'meaty', 'preheated', 'montreal', 'shoulder', '400o', 'pitted', 'rutabagas', 'soaked', 'dessert', 'powderand', 'fruitbits', 'skinless', 'size', 'needed', 'different', 'accordingly', 'bottled', 'heavy-bottomed', 'as', 'specified', 'well-coated', 'fully', 'tarter', 'thyme', 'capers', 'insert', 'sliver', 'highball', 'raspberries', 'decorative', 'r', 'foreign', '1-second', 'crisp-tender', 'flatbreads', 'shut', 'sand', '14cm', 'blisters', 'sweet', 'knorr', 'whilst', 'buy', 'castor', 'confectioner', 'stone', 'medium-size', 'currants', '-brownie', 'single-crust', 'poblanos', 'dining', 'ribs', 'charred', 'fork-', 'coat', 'mark2', 'day', 'oil', 'asiago', 'caramelize', 'mostly', 'many', 'trout', 'whisk', 'scotch', 'cappucino', 'nothing', 'refried', 'kethcup', 'spanish', 'pre-sliced', 'stove-top', 'push', 'medium-hi', 'watts', 'we', 'mexican', 'oysters', '4-inch', 'only', 'center', 'beer', 'marinator', 'pesticides', 'mashing', 'expose', 'facing', 'cast-iron', 'cider', '2-1', 'intensity-', 'regular', \"'til\", 'chuck', 'say', 'med', 'sloppy', 'power', 'rotini', '9x11', 'gallo', 'coffee', 'monkfish', 'saltines', '200-degree', 'anymore', 'quite', 'cavender', 'standard-size', 'powdering', 'big', 'originally', 'set', 'carcass', 'sheets', 'dente-drain-plunge', '200c', 'one-third', 'seasoning', 'extra-ripe', 'lemon-herb', 'wrappers', 'alongwith', 'thinnest', 'togethet', 'crabapples', 'ouside', '2-10oz', 'blind', 'securely', '5-spice', 'noddles', 'after', 'ice-cream', 'tandoori', 'pad', 'midway', 'better', 'extractor', 'electric-mixer', 'bbq', 'glass-baking', 'black', 'pounded', 'thing', 'thickenesses', 'slice', '4-qt', '160c', 'teaspoon', 'beetroots', 'sure', 'weenies', 'figs', 'climate', 'threads', 'float', 'sundae', 'roni', 'taste', 'thick', 'tube', '90', 'atop', 'tag', 'late', 'haddock', 'fluff', 'crown', 'extend', 'korma', '3qt', 'smokies', 'load', 'app', 'prosecco', 'chilis', 'once', 'took', ')', 'julienned', 'nonmetal', 'aroma', 'drippings', 'medallions', 'nut', 'glaze', 'lines', 'p', 'owl', 'baileys', 'fibers', 'coarsley', '4-inch-wide', 'or', 'sharpening', '9-1', 'anyone', 'prep', 'wraps', 'onoin', 'filling', 'tepid', 'parmigiano', 'crepes', 'toothpicks', 'tomatoe', 'whir', 'rosemary', 'debeard', 'peaked', 'unoiled', '10', 'broiler', 'remove', 'skin-side', '13-by-9-inch', '32-oz', 'linquine', 'steep-sided', 'bow', 'narrow', 'insides', 'trimmed', \"n't\", 'rollups', 'x15', 'scraped', 'simmering', 'chillis', 'containing', 'mint', 'liquer', 'comprise', 'bacardi', 'stainless', 'explanatory', 'smoooth', 'spreading', 'splitpeas', 'kolacky', 'cooks', 'andouille', 'crostini', 'colors', 'ea', 'kombu', 'two', 'nestl', 'garnished', 'sausagemeat', 'intervals', 'directly', 'grapefruit', 'zuke', 'pay', 'exact', 'peas', 'foil', 'dissolved', 'sits', 'line', 'knot', 'iced', 'gaeng', 'burger', 'ice-filled', 'rotary-style', 'basil', 'cocoa', 'kaiserschmarren', 'mush', 'flakes', 'tropical', 'passion', 'microwavable', 'basting', 'fave', 'period', 'salami', 'centre', '~', 'generously', 'buter', 'shells', 'more', 'eggbeater', '160', 'justa', 'amaranth', 'knead-', 'shrimps', 'disk', 'opening', 'orzo', 'stack', 'fairly', 'while', 'type', 'steak-it', 'micro', '3-inch', 'tblsp', 'paneer', 'order', 'rims', 'adds', 'quinoa', '1', 'were', 'crema', 'nutella', 'mustatrd', 'boiling-water', 'crispy', 'uniform', 'dampen', 'semi-hollow', 'fifteen', 'unwrap', 'adente', 'pasty', '19cm', 'boils', 'individually', 'tvp', 'brushed', 'evenly', 'changes', 'chewy', 'bases', 'low-salt', 'ring', 'star', 'hours-or', 'pre', 'prosciutto', 'shade', 'tator', 'wish', 'difficult', 'tahini', 'butternut', 'liqueurs', '13', 'cornflake', 'glas', 'fideo', '5x9-inch', 'glad', '275f', 'red-hots', 'store', 'entire', 'swirl', 'avocado', 'bits', 'ovr', 'slight', 'rise', '6-1', 'corners', 'overfill', 'ceramic', 'pita', 'crumbly', 'pairs', 'hominy', '210ml', 'vanilla', 'establish', 'fajita', 'spritz', 'cake-like', 'sugars', 'condensed', 'entirely', 'colouring', '365', 'ahead', 'gift', 'garllic', 'kasha', 'stopper', 'splinter', '2-5', 'single', 'takmaria', 'dressing', '2cm', 'lift', 'build', 'layered', 'crumble', 'tightly', 'seasonings', 'pepe', 'sold', 'capacity', '3', 'hi', 'crabmeat', 'amounts', 'citrus', 'expect', 'opened', 'source', 'baking', '100', '6-250', 'read', 'porridge', 'avacoda', '9x13-inch', 'sprinkled', '425', \"'ll\", 'muesli', 'made', 'hoizontally', '`', 'butterscotch', 'wholemeal', 'lb', 'plantains', 'malibu', 'steviva', 'ingreidents', 'bitter', 'belpepper', 'flaxseeds', 'pebbles', 'stage', 'diving', 'fig', 'processing', '350-370f', 'your', 'manicotti', 'extra', 'rectangles', 'warm', 'mary', 'dishing', 'seaon', 'near', 'mounds', 'procesor', 'pods', 'amchur', 'bundle', '400', 'hit', 'totally', 'limoncello', 'end', '8-oz', 'cinamon', 'gizzards', 'trying', 'keeping', 'chile', 'frais', 'variable', 'lychee', 'parsley', 'crumbs', 'pan-searing', 'pastry-', 'discolour', 'final', 'servings', 'bin', 'unroll', 'pigs', 'large', 'roiling', 'argentinean', '``', 'separtely', 'components', 'litte', 'toaster', 'depending', 'ovent', \"'liquified\", 'pepsi', '2-inch-high', 'crisps', 'and', 'miosten', 'chocolates', 'written', 'lard', 'goat', 'handfuls', 'dont', 'omitting', 'emptied', 'unblemished', '54-quart', '18', 'ducks', 'squid', '9x2-inch', 'baking-sheet', 'worteshire', 'achieve', 'cauliflower', 'pcs', 'caesar', 'he', 'strawberies', 'english', 'test', 'pam', 'beau', 'lean', 'interior', 'charredblack', 'traditional', 'juicer', 'mandren', 'asaigo', 'thirty', 'decanter', 'bouled', 'countertop', 'flutty', 'wait', 'steel-cut', 'double-layered', 'removeas', 'positions', 'tasty', 'roast', 'watch', 'floured', 'hot', 'starts', 'insure', '12', 'sorbet', 'takes', 'mixed', 'condiment', 'now', 'yam', 'sweetener', 'packets', 'galliano', 'suagr', 'butter', 'twenty', '2-count', 'plant', '1-3', 'firm', 'storage', 'nori', '200deg', 'additional', 'cranberries', 'tabouleh', 'latkes', 'waxpaper', 'shrinkage', 'shallots', 'manage', 'together', '445f', 'pilsner', 'inner', 'qts', 'freeze', 'cheses', 'sprig', 'ill', 'spareribs', 'coating', 'rich', 'filter', 'beet', 'catch', 'conversions', 'stockpot', 'tempeh', 'up', 'heart', 'briskly', 'piecrust', '150', 'but', 'syrup', 'cajun', 'brandy', '7x11', 'fold', 'manufactor', 'navel', 'country', 'ten-inch', 'clear', 'alumium', 'de', 'spike', 'browns', 'beverage', 'brussel', 'paper-do', 'maple', 'gremolata', 'gin', 'butters', 'min', 'clinging', 'thawed', 'braid', 'an', 'bowls', 'ben', 'fallowed', '10mins', 'heavily', \"325f'score\", 'bead', 'nose', 'hearts', 'raccoon', '200ml', 'sausage', 'strands', '1tbs', 'al', 'smart', 'hock', 'martini', 'rough-textured', 'properly', 'zipper', 'sumeshi', 'half-half', 'shaver', 'triangle', 'grapeseed', 'match', 'mayonnaise', 'galric', 'overcooked', 'vanill', 'miutes', 'goblet', 'bottomed', 'platter', 'ingrediens', 'bar', 'low-fat', 'herbes', '8cm', 'ovens', 'speed', 'medium-hot', 'extremely', 'blood', 'else', 'manufacturers', 'wide', 'combining', 'owner', 'parsely', '9x9-inch', 'mini-muffin', 'tablespoon', 'ensuring', 'crushing', '12x14', 'bought', 'omelet', '-cooking', 'soup', 'wipe', 'screw-top', 'between', 'pie', 'proportions', 'seeasonings', '2qt', 'asparagus', 'soy', 'koolaid', 'bagel', 'broilerproof', '1or', 'purposes', 'stewing', 'pea-sized', 'sweetcorn', 'ladle', 'mango', 'ras', 'facilitate', 'surrounding', '10-14', 'toast', 'breadcrumbs', 'moulds', 'tenders', 'teriyaki', '10x3', 'italian', 'griller', 'sorry', 'hard', 'blitz', 'fair-sized', 'appropriate', 'alarm', 'oven', 'crpe', 'rice', 'gills', 'venison', 'stalk', 'package', 'extract', 'frequently', 'suggested', 'tapered', 'eggplants', 'hubbard', 'bollios', 'shelled', 'peanuts', 'pipe', 'agave', 'crumbs-mix', 'cummin', 'hollandaise', 'game', 'lies', 'roll', 'label', 'barbecue-medium', 'riesling', 'choose-', 'away', 'piri-piri', 're-wrap', '4-inch-thick', 'crabs', 'whiskers', 'nicely', 'fluid', 'farhenheit', 'microwave', 'extra-virgin', 'pint', 'pies', 'medium-heat', 'me', '2-inch', 'make', 'spoonfuls', 'would', '10x15x1', 'rolling', 'desgrees', 'photo', 'marks', '6-12', 'desolved', 'accoring', '?', 'per', 'underside', 'hour', 'peper', 'degress', 'silver', 'sec', 'ovals', 'de-seed', 're-hydrate', 'smoke', 'feta', 'dates', 'medium-low', 'ribbons', 'pile', 'avocados', 'sodium', 'kabobs', 'yolk', 'remover', 'paper', 'mints', 'rub', 'heavy-bottom', '11-12', 'briquettes', 'evaporates', '4', 'k', 'wall', 'haul', 'medium-', 'par', 'overn', 'coke', 'position', 'sundried', 'purpose', 'tomatillos', 'gets', 'hokkaido', 'whitefish', 'gladware', 'touching', 'kashmiri', 'minute', 'kool-aid', 'whey', 'kidney', 'built-in', 'alternating', 'grind', 'squeezed', 'aniseeds', 'deep-fryer', 'wrinkle', 'prehat', \"'re\", 'midori', 'cheez', 'adjustments', '14-inch', 'restrain', 'healthy', 'chilean', 'upside', 'joes', 'fashioned', 'envelope', 'romas', 'cheeks', 'overlapping', 'appears', 'inces', 'wilted', 'gelatin', 'waffles', 'prepping', 'saturday', 'samp', 'along', 'daeng', 'planning', 'slit', 'goreng', 'wasabi', '415', 'tenderizer', 'ing', 'kneading', '8-9', 'bacon', 'burgers', 'mediumheat', 'tater', 'curls', 'wooded', 'plunging', 'preparing', '43', 'ounce', 'anchovies', 'unbeaten', 'ears', 'staples', 'lime', 'cross-wise', 'rising', 'lumps', 'snapper', 'x9', 'tony', 'actually', 'core', 'tm', 'desired', 'gas4', 'processsor', 'shortcakes', '225f', 'discolored', 'dessicated', 'preaheat', 'swede', 'stalks', 'julienne', 'frosty', 'link', 'well-blended', 'ouzo', 'wax', 'perculator', 'cold', 'disolve', 'muffins', 'container', 'scorching', '3-4', 'silks', 'f', 'capsicum', '13x', 'preheat', '105', 'instant', 'be', 'provide', 'sit', 'eaten', 'feel', 'limon', 'miniature', 'spoonful', 'flat-top', 'cake', 'zip-seal', 'drained', 'seasons', 'toothpaste', 'relish', 'each', 'dark', 'strainer', 'hint', 'codfish', 'baggie', 'serves', 'worchestershire', 'meat', 'struesel', 'bottle', 'cucumbers', 'chapagne', 'gingerroot', 'moistened', 'service', 'darkly', 'tweezers', 'vinegar', 'breaking', 'round', 'one-second', 'cookies', 'catalina', 'discs', 'baker', 'increases', 'grows', 'pasta-like', 'vidalias', 'tomate', '1-pound', 'frozen', 'collins', 'available', 'nice', 'lavash', 'hickory', 'seed', 'membranes', '3-inch-long', 'chocolate', 'maybe', 'equal', 'tend', '400-degrees', 'baby', 'cacao', 'shaken', 'superfine', 'parboil', '10x8', 'turn', '312986', 'perpare', '375-degrees', 'cabbage', 'asian-inspired', 'avodcadoes', 'cheese', 'canes', 'prepar', 'the', 'put', 'main', 'cherry', 'chips-', 'serve', 'pears', 'amore', '5-', 'normally', 'kosher', 'reynolds', '9-in', 'surfaces', 'yeat', 'perheat', 'frangelico', 'chickpeas', 'whole', '375f', 'reduced-fat', 'radishes', 'ingedients', 'pushing', 'prune', 'cordial', 'pine-nuts', 'chicken', 'reasons', 'pierced', 'parallel', 'odd', 'slotted', 'bourbon', 'times', 'pata', 'swiss', 'sansho', 'togther', '350f', 'pimiento', 'foil-lined', 'aji', 'splinters', 'unfold', 'throughout', 'shave', 'etc', 'buffalo', '15', 'unsliced', 'hits', 'preferment', '325^f', '30secs', 'lol', 'vita-mix', 'followed', 'poultry', 'criss', 'quarters', 'luscious', 'marashchino', 'disappear', 'oreo', 'cinammon', 'also', 'fitted', 'braising', 'slivers', 'require', 'habeneros', 'scum', 'mangos', 'breast', '48-72', '170oc', 'slow-cooker', 'dungeness', 'sells', 'mash', 'vitamix', 'cassia', 'serveral', 'counter', 'caps', 'sandwiches', 'preparation-', 'boling', 'tear', 'ornstarch', 'leg', 'some', '11x8', 'tostada', 'popcornlike', 'squares', 'ear', 'processor', 'loop', 'yokes', 'maker', 'wiping', 'casings', 'grilling', 'zest', 'piece', 'pickled', 'defrosted', 'linguica', 'pocket', '10x7', 'securing', 'unpricked', '240c', 'easiest', 'unitl', 'mediuim-large', '100g', 'concentrated', 'damsons', 'stickiness', 'roughly', 'begins', '355f', 'buttons', 'moderate-high', 'sausages', 'mark6', 'avoid', 'thoroghly', 'lots', 'beaters', 'bony', '7-9', 'excluding', 'largish', 'buttercup', 'creme', 'ask', 'ingredients-', 'smell', 'in', 'pulp', 'corned', 'busy', 'loofa', 'peelings', 'achieved', 'layer', 'pre-mixed', 'potatoes', 'whatever', 'combina', 'switch', 'enought', 'qt', 'plate', 'wet', 'choose', 'they', 'deep-fry', 'doughnuts', 'campari', \"'folded\", 'let', 'woody', '-tofuscramble', 'bell', 'consistency', 'guajillo', 'infuse', 'apart', 'bibb', 'mustard', '6-qt', 'nutty', 'joy', 'rip', 'deseed', 'secnds', 'deg', 'croswise', 'grills', 'it', '350-deg', 'dissappers', 'paella', 'tool', '25', 'surface', 'cornbread', 'chocoloate', 'necessary', 'lock', 'porcini', 'nonstock', 'buttered-side', 'peach', 'uncooked', 'comfortable', 'fire', 'dogs', '7-8', '-i', 'raspberry', 'thouroughly', 'foie', 'boiling', 'plenty', 'potato', 'fourth', 'wrap', 'breasts', 'fenugreek', '88-inch', 'togeter', 'zip-top', 'margerine', 'extreme', 'vodkas', 'tortilla', 'pototoes', 'standard', 'bags', 'outside', 'wood', 'absolutely', 'excessive', 'devein', 'well-greased', '275', 'ingrediendts', 'chambord', 'meats', 'crock-pot', 'logan', 'tenderloin', '180', 'people', 'clearly', '250', 'acceptable', 'greek', 'manageable', 'de-skin', 'unbaked', 'clam', 'black-eyed', 'sprinkling', 'meat-mixture', 'upright', 'altogether', 'heavy-', 'place', '450f', 'plunge', 'creamed', '2-inch-thick', 'mangoes', 'cereal', 'spicy', 'purple', '1-quart', 'rid', 'spreads', 'pulled', 'pull', 'bulbous', 'dutch-oven', 'undrained', 'nail', 'garnishes', '24', 'peak', 'george', '230c', 'rotary', 'immediate', 'shredded', 'lenghtwise', 'butter-flavored', 'flavours', 'at', 'soapy', 'metal', 'safety', '11x7x2', 'nutmeg', 'grill-', 'youd', 'shows', 'pecorino', 'film', 'nondairy', '110', 'crappie', 'teapot', 'tp', 'bulgur', 'balls', 'drambuie', \"'dry\", 'wheat', '56', 'cheese-', 'gm', 'made-1', 'non', 'crullers', 'chermoula', 'applesauce', 'preferable', 'flaxseed', 'accurately', 'dot', 'eggnog', 'spacing', 'fulls', 'quartered', 'shelf', '30cm', 'pounder', 'layering', 'triple', 'molds', 'singles', 'mushroom', 'subsides', 'macerate', 'nip', 'purplish', 'husked', 'quart', 'vidalia', 'seitan', 'super-hot', 'chunks', 'jellyroll', 'climatize', 'meal', 'harvest', 'togeather', 'stretch', 'see', 'disolves', 'massage', 'base', 'disposable', 'portabellos', '330', 'spagetti', 'crepe', 'not', 'oreagano', 'pearls', 'nonreactive', 'pricking', 'ten', 'list', 'favourite', 'zucchinis', 'fried', 'carmelize', 'balsamic', 'plums', 'hands', 'suet', 'enhancer', 'proportion', 'concentrates', \"'d\", 'incisions', 'rivels', 'raised-based', 'feijoas', 'contain', 'cent', 'than', 'thumb', 'fine-mesh', 'extending', '225c', 'conventional', 'apiece', 'frying-pan', 'either', 'knife', 'lengths', 'escape', '12mm', 'cicken', 'omelets', '15-1', 'c', 'ap', 'enclose', 'bring', 'medium-large', 'cornflakes', 'refer', 'colesalw', 'guinness', 'marinate', 'oz', 'veggies', '2-3mins', 'got', 'increments', 'others', '20oz', 'goes', 'everthing', 'weighting', 'spears', 'golden', 'combinie', 'touch', 'tender-this', 'intact', 'alternate', '5', 'shitake', '-bring', 'sir', '}', 'greese', 'maggi', 'rings', '4-5', 'electric', 'achiote', 'thousand', 'darkening', 'shorter', 'confetti', '2-3cm', '7', 'bagels', 'across', 'ina', 'unfreeze', 'giner', 'quinces', 'bunch', 'grater', 'crunchy', 'pickle', 'accordance', 'bakers', '5min', 'liqueur', 'tender-firm', 'stem', 'throughly', '16-inch', 'foods', 'measuring', 'vigourously', 'stuff', 'chilli', '9x5', 'tied', 'state', 'seasame', 'leek', 'know', 'brown', '325', 'enlarge', 'flaked', 'alum', 'trays', 'paper-line', '350^f', 'pestle', 'trimming', 'poblano', 'flavoring', 'parsnip', 'leaving', 'optimal', 'step', 'mind', '20-30', 'vegan', 'construction', 'another', 'caraway', 'plump', 'toss', 'cookie', 'loin', 'imitation', 'months', 'half-filets', 'additionally', '8-inch-thick', 'whiz', '320', 'five', 'whits', 'soyabeans', 'finely', 'apricots', 'times-', 'savoy', 'cut-side', 'completed', 'sauti', '220', 'gravel', 'microvwavable', 'grainy', 'blondie', 'pizzelle', 'cornflour', 'repeat', 'lemon', 'take', 'beans', 'even', 'stand-up', 'dr', 'preferences', 'soak', 'force', 'kool', 'mrs', 'skimming', 'edge', '8x8-inch', 'jam', '8-or-9', 'ribbon', 'ingridents', 'things', 'stiff', 'dressings', 'straight', 'pistachio', 'valley', 'heat-resistant', 'walnuts', 'occasionally', 'caramels', 'style', 'chop', 'peppered', 'indirect', 'firm-tender', 'creaming', 'sleeves', 'feed', 'powdery', 'onions-', 'rice-a-roni', 'seperate', 'juices', 'koeksisters', 'might', 'cayenne', 'eight', 'frothy', 'door', '-ina', 'rounded', 'cucmber', 'portabellas', 'go', 'liquors', 'stem-ends', 'chokecherry', 'brew', 'wonderful', 'packages', 'stones', 'forced', '2in', 'powderise', 'curl', 'artichokes', 'possible', '7-10', 'bands', 'liquefy', 'washing', 'well', 'lamington', 'all-bran', 'goats', 'never', 'shanks', 'add-ins', '98', 'harissa', 'shucks', '23cm', 'oleo', 'bend', 'beneath', 'half-hour', 'soya', 'cheeses', 'limes', 'procedures', 'segment', 'bag', 'non-metal', 'high', 'bresaola', 'chive', 'individual', 'banans', 'breaded', 'sml', 'pressure', 'ssift', '5-6quart', 'window-', 'shiitake', 'disovle', 'bananas', 'icxe', 'blueberry', 'half', 'food', 'manfacturer', 'just', '200f', 'snappers', 'prepre', 'drumstick', 'again', 'dipping', 'non-vegetable', 'peanutbutter', '200oc', 'blemishes', 'small', '13-15', 'cockpot', 'shock', 'smoothie', 'already', 'fat-free', 'coriander', 'abuot', 'help', '1150', 'pretzels', 'supplies', 'tangerines', 'ccream', 'island', 'trick', 'brought', 'soups', 'serving', 'paprika', 'pureed', 'avoiding', 'stuffing', 'seal', 'aioli', 'consistantly', 'runny', 'bisquick', 'ways', 'continuing', 'look', 'coarsly', 'raisins', 'shark', 'succhini', 'marrow', 'stabbed', '12x8x2', 'could', 'toovar', 'prehear', '9-', 'aussie', 'forcefully', 'rosti', 'boililng', '350-degrees', 'tempered', 'lower', 'delicious', 'cane', 'refresh', 'must', 'appear', 'pastas', 'snugly', 'attachment', 'loins', 'pkg', 'natural', 'card', 'pots', 'pices', 'connective', 'tsp', '9-by-13', 'degrease', 'pops', 'tarama', 'elelctric', 'manual-', 'mexicorn', 'fluffy', '2-quart', 'redhot', 'stirred', 'cassarole', 'eating', 'red-pepper', 'kiwis', 'heat-safe', 'med-large', '139-inch', 'muffinettes', 'rendered', 'roots', 'pale', 'stamens', 'yoghurt', 'old', 'happened', 'cavolo', 'knives', 'animal', 'dough', 'triangular', 'frying', 'pimento', 'tender', 'fresh', 'satay', 'was', 'meium', 'dishes', '8-inch', 'portobello', 'slide', 'ritz', 'snaps', 'cut', 'till', \"''\", 'vol-au-vent', 'paring', 'prefer', 'ingredieants', 'week', 'perserves', 'tall-sided', 'gas5', 'suacepan', 'plates', 'inexpensive', 'cole', 'stripper', 'pulling', 'moons', 'part', 'slect', '400-degree', 'reccomendations', 'lightly', 'above', '5c', 'degees', '!', 'weiners', 'spatula', 'parmigiano-reggiano', 'diet', '8x8in', '105f', 'crunble', 'meatball', '72', 'moistens', 'only-go', 'element', 'angelfood', '170f', 'plum', 'flesh', 'teaspoonsful', '4000f', 'dip', 'creamer', 'benedictine', 'cardamon', 'hashbrowns', 'cornstarchand', 'scale', 'brand', '3-quart', 'microwaveable', 'ingredidients', 'peaches', 'emulsified', 'rack', 'caldo', \"'\", 'finger', 'nestling', 'bath', '1-', 'deer', '8-10', 'cases', 'pierogies', 'decoration', 'lid', 'carrot', 'squeeze', 'pineapple', 'frig', '10-15', 'sause', 'chourico', 'couscous', 'jarmix', 'aware', 'veges', 'looking', 'clean', 'tumbler', 'dunk', 'hammer', 'thouroghly', 'salt-free', 'whiskey', 'no-knead', 'cabinet', 'dijon-style', 'want', 'belt', 'moon', 'frost', 's', 'elbow', 'hate', 'little', 'mat', 'ragu', 'sun', 'tupperware', 'crecent', 'jiffy', 'ingred', 'rimmed', 'sprinform', 'icing', 'w', 'rest', 'punching', 'liquor', 'tbl', 'neck', '2-12', '30-45', 'active', 'croutons', 'heavy', 'papery', 'pao', 'masala', 'peeper', 'partially', 'checking', 'sharp', 'starbucks', '200dc', 'layers', 'raost', 'pistils', 'resistant', 'soybeans', 'seafood', 'moderately-low', 'slides', 'wrap-', 'cheerwine', 'vacuum', 'licorice', 'lidded', 'aluminium', 'against', 'broad', 'boiled', 'singing', 'inhalf', 'cornstarch-sugar-water', 'fashion', 'radish', '3-qt', 'diameter', 'medium-firm', 'heat', 'drinking', 'tomato-paste', 'return', 'pared', '4-6oz', 'cloth', 'pomelos', 'mold', 'become', 'blueberries', 'melon', 'comes', 'brownies', 'sanitize', 'higher', 'ripe', '4+', 'laksa', 'prevent', 'direction', '238f', 'oranges', 'apple', 'strips', 'peppermint', 'kitchen', 'thinly', 'four', 'amaretto', 'heavy-duty', 'indicated', 'pulse', 'hazel', 'enough', 'sole', 'pot', 'pre-bake', 'box', 'rices', 'cakepan', 'space', 'lukewarm', 'giving', 'experiment', 'parfait', 'prepare', 'rotisserie', 'closely', 'heavy-base', 'mince', 'outer', 'water-', 'muffin', 'briskett', 'shoots', 'buttering', '8-in', 'fingerlength', 'simply', 'coffeemaker', 'crunched', 'diagonally', 'foreman', 'nuts', 'sweet-sour', 'sousvide', 'enoough', 'shaking', 'eights', 'strongly', 'x-rated', 'corner', 'pricked', 'groups', 'taking', 'medium', '9-inch-square', 'sticking', 'may', 'beginning', 'been', 'marnier', 'footed', 'donate', 'rinserice', 'forming', 'boxed', 'halved', 'chilly', 'dumplings', 'finest', 'yellow', 'exposed', '9x5x3', 'resemble', 'scorched', '350-', 'joe', '/', 'bean', 'pretty', 'melt-in-your', 'mahi', 'texture', 'swordfish', 'tomato', 'lot', 'slowly', 'incorporated', 'cornfour', 'version', '13-in', 'sauce-', 'full', 'unti', 'its', 'ravioli', 'came', 'thickened', 'sourdough', 'hazlenut', 'vinaigrette', '30', '5-quart', 'regarding', 'thoroughly-heated', 'thick-bottomed', 'nb', 'tines', 'thickish', 'oubrowned', 'ac', '55-60', 'seared', 'nugget', 'skillet-', 'microwave-proof', 'sponge', 'garlicy', 'manufactuer', 'cola', 'pt', 'bad', 'slivered', 'darker', 'bottles', 'cannellini', 'sorta', 'adhere', 'saucepam', 'run', 'great', 'togeth', 'completely', 'ingediants', 'evapotated', 'four-cup', 'west', 'non-fat', 'deep', 'artichoke', '6-8', 'canned', 'original', 'softening', 'achive', 'bahmi', 'unagi', 'scatter', 'dent', 'bm', '5-inch', 'top-', 'meets', 'secs', 'saved']\n"
          ]
        }
      ]
    },
    {
      "cell_type": "markdown",
      "metadata": {
        "id": "JgQtsMMH9kda"
      },
      "source": [
        "7\\. Разбейте описания рецептов из `recipes` на предложения при помощи пакета `nltk`. Найдите 5 самых длинных описаний (по количеству _предложений_) рецептов в датасете и выведите строки фрейма, соответствующие этим рецептами, в порядке убывания длины."
      ]
    },
    {
      "cell_type": "code",
      "source": [
        "lenn = []\n",
        "def find_largest_array(arr):\n",
        "    max_len = 0\n",
        "    largest_arr = None\n",
        "    for sub_arr in arr:\n",
        "        if len(sub_arr) > max_len:\n",
        "            max_len = len(sub_arr)\n",
        "            largest_arr = sub_arr\n",
        "    return largest_arr\n",
        "for i in data[\"description\"]:\n",
        "  lenn.append(sent_tokenize(str(i)))\n",
        "for i in range(5):\n",
        "  print(find_largest_array(lenn))\n",
        "  print()\n",
        "  del lenn[lenn.index(find_largest_array(lenn))]"
      ],
      "metadata": {
        "colab": {
          "base_uri": "https://localhost:8080/"
        },
        "id": "wMrx78-ZMyLF",
        "outputId": "d5595be2-c5a4-422c-a07d-47f1df16df82"
      },
      "execution_count": 19,
      "outputs": [
        {
          "output_type": "stream",
          "name": "stdout",
          "text": [
            "['this wonderful icing is used for icing cakes and cookies as well as for borders and art work on cakes.', 'it makes a delicious filling also between the layers of cakes and under fondant icing.', 'you can make roses but it takes 3 or more days to dry them depending on the humidity.', 'there are many versions of “buttercream” icing.', 'some are made with eggs and all butter.', 'some varieties, you have to cook your sugar to a softball stage.', 'others are 100% shortening or a combination of shortening and butter.', 'each decorator has his or her favorite.', 'i personally think that the best taste and textured recipe is the one that has you cook your sugar, add to whipped eggs and use pounds of butter per batch.', 'but….', 'i live in a state that can easily be a 100 degrees for days on end during the summer and you know what butter does on hot days.', 'it melts!', 'a greasy puddle of melted icing on a cake plate is not something i want to look at or eat.', 'your top notch decorators have a few options we don’t.', 'they have huge refrigerators to store their cakes in, and refrigerated vehicles that they can use to deliver decorated cakes.', 'i even know a few that refuse to deliver at all.', 'if you want their cake, you come and get it and it’s your responsibility if it melts.', 'these decorators don’t even turn on their ovens for a wedding cake for less than $2000.', 'the following recipes for buttercream icing hold up pretty well in the heat and humidity, but if you know that your cake will be out in very high temperatures, then don’t use any butter and use only a high quality shortening.', 'shortening:  \\r\\n\\r\\nsolid shortenings definitely have their place in baking.', 'so i’m going to talk taste tests.', 'crisco is the hands down winner.', 'it has a clean taste with the melting point of 106 degrees.', 'butter melts somewhere between 88 and 98 degrees f. depending on the amount of fat in the brand.', 'you can see that if you need to serve a pure buttercream decorated cake, on a hot august afternoon, you could have melted roses (and i do mean greasy puddles) on the tablecloth.', 'this is when a good quality shortening will be a great blessing.', 'i have been told by decorator friends that some of the warehouse brand shortenings leave a grainy consistency to the icing no matter what you do.', \"powdered (confectioner's) sugar:  \\r\\n\\r\\nregarding powdered sugar.\", 'please use a cane sugar.', 'i prefer c&h powdered (confectioners) sugar.', 'many of the cheaper brands use sugar beets for their base.', 'i don’t know the chemistry behind it but you definitely get different textures to your icing that can vary from batch to batch.', 'i spent a few months being very frustrated with the quality of my icing until a kind lady did a bit of trouble shooting for me.', 'she recommended the cane sugar and i’ve been blessing her ever since.', 'top-quality brands:  \\r\\n\\r\\nplease be safe, buy a quality brands and then stick with it for the best results.', 'a friend of mine, who is a wonderful cook and baker, travels a lot and she often prepares treats for her hosts.', 'she’s learned to ask the host to have her favorite shortening and flour on hand.', 'she has even made up a little makeup type case that carries her favorite extracts and precious spices.', 'that way she knows what she is working with, how it handles, and what tastes she can expect for the finished product.', 'some surprises are not pleasant.', 'storing buttercream icing: \\r\\n\\r\\nif you are not going to be using the icing right away, place it in a clean, sealable bowl.', 'store it in the refrigerator but please don’t place it next to the marinating salmon, garlic or broccoli.', 'you do not want those flavors in your icing!', 'i like to use my icing within a few days but it will hold in the cold refrigerator for a couple of weeks if necessary.', 'i often make a double batch of icing the night before i have a baking project.', 'that way i know that i have plenty of icing, it’s fresh and i don’t have to make it while i’m in the middle of baking the cakes.', 'the extra can always be used for a batch of cupcakes.', 'when you remove the icing from the refrigerator, you might notice that the icing has taken on a sponge like texture.', 'do yourself a favor and place the icing in a bowl and mix by hand using a back and forth, smashing motion with a spoon or icing spatula.', 'what you want to do is to smash the bubbles out of the icing.', 'this extra step will help to give you the smoothest icing for a pretty top and sides of the cake.', 'i have found that you will get an even better texture of icing if it is at room temperature before you try to do your icing.', 'bad buttercream icing days:  \\r\\n\\r\\none thing that seems very silly but is true.', 'there are bad buttercream days!', 'i’ve asked quite a few decorators about this and every one says “yes, there are lousy days”.', 'i’m not sure what causes the problem.', 'it could be that every human has bad days so they blame the buttercream.', 'it may be the humidity or that there is a low pressure system hanging over your town.', 'i just know why but it is a perceived fact.', 'the way i have handled the problem is that i changed the decoration on the cake.', 'i couldn’t get the smooth top or sides as i originally planned.', 'writing a greeting on a messy top would look awful so i changed the design idea and put flowers everywhere.', 'i could have also done a basket weave technique around the sides.', 'just go with the flow, and don’t get frustrated.', 'aunt martha won’t chuck the cake at you if you don’t write her name on the top this time.', 'remember that you are creating something that is to be eaten so have fun with it.', 'different mixers:\\r\\n\\r\\nif you have a heavy duty counter mixer, you can prepare a whole batch at one time.', 'if you are using a hand mixer, divide the recipe in half.', 'if you notice the mixer getting hot, please stop and let the machine cool off.', 'i also prefer to mix the buttercream on a low setting.', 'it seems that the higher setting do the job faster but you also will get a spongy texture to the icing.', 'i don’t want that quality in my final ice coating or flowers on the cake.', 'using weight scales:\\r\\n\\r\\n1 cup of crisco weighs 6 ounces.', 'i put a piece of wax paper on my scale and start plopping spoons of shortening on until i get the desired weight.', 'it really saves on the cleanup.', 'recipe from peggy at whatscookingamerica.net']\n",
            "\n",
            "['a translucent golden-brown crust allows the green of the avocado to be seen.', 'the crispy exterior is a counterpoint to the unctuous interior.', 'these are a signature dish for me, and the one i most often get requests to make (although my seafood and ricotta stuffed buckwheat pancakes run a close second).', 'these fritters came about ten years ago when i was shopping for a dinner i was making for a friend who is a cia-trained chef.', 'i was in a vegetable market and saw these gorgeous avocados that i just knew would be ripe in the next two days.', 'i tried to think of what i could do with them since a) everyone serves cold avocado, and b) i really am not fond of guacamole.', \"as i tried to think of what i could make with them that was hot, the work 'fritters' jumped into my head.\", 'having never made a fritter before, i was a little surprised to have that thought; but having never known when a vegetable was going to be ripe before i figured i was on a roll and decided to go for it.', 'to serve with my never-before-tried-fritters, i decided to make a crème fraîche-lime-cayenne dipping sauce.', \"so i made fresh crème fraîche, and used it as a base not only for this dip, but for a tia maria sauce to go with the flourless chocolate cake i made for dessert (another never-before made item, but with the recipe from cook's illustrated it was the only thing i wasn't making up as i went along).\", 'the result of the fritters was that i got to taste the test fritter, then had to dive across the couch before the last one was devoured in order to have a second.', 'the one evolution in the recipe is the change from cayenne to chipotle in the dip.', 'i like the smokiness, and it gives a rough edge to something very smooth - i am all about contrast.', 'feel free to use whatever chile or combination thereof that you like best.', \"this dip is easy and stands on it's own at a party for anything you want to dip into it.\", 'i have also made it with vegan sour cream with great results.', 'the name alligator claws comes from an alternate name for the avocado: the alligator pear, as well as the fact that the wedges of avocado look like claws.', \"(for those not familiar with the name alligator pear, it derives from both the tough, textured exterior - reminiscent of an alligator's hide, and the fact that you really can't eat one until it softens - just like a pear.)\", \"alligator claws are also a great name to call them if you have kids who either won't eat anything that sounds weird and you want to keep them to yourself, or - if you want your kids to eat them - if you have kids who'll only eat things that will gross other people out.\", 'if you are preparing these for kids (and i recommend you do whatever name you choose to call them), protect their palates and tone down the heat of the sauce.', \"maybe skip the chiles altogether and put in just a hint of finely ground pepper (white pepper won't look like black specks throughout the dip - i'm normally not that fussy, but it's something kids will notice).\", 'allow half an avocado per person.', 'this is so rich that more is too much.', 'note:\\r\\nyou can easily cut the recipe in half, all the batter is is a one-to-one mix of flour & water (someone has suggested trying tempura batter which comes in a mix at many supermarkets - i tend to be a from-scratch kind of guy.', 'or do i just mean itchy?).', 'enjoy.', '-- text by michael david winter, aka the poker roach']\n",
            "\n",
            "[\"this is one of the best soups i've ever made and it is even worthy of company.\", 'so simple, yet rich in deep, mushroomy flavor.', 'the inspiration was zaar #26877, a delicious mushroom rice casserole.', \"i found i couldn't stop eating the liquid before putting the casserole into the oven and that gave me the idea that the base  would make a delicious soup.\", 'and it does!', 'use plenty of fresh mushrooms.', \"i buy them when they are marked 1/2 price at the grocery, as this is a good way to use your 'shrooms that are starting to get dark.\", 'it is the soy sauce that transforms the broth from ho-hum to yum.', 'i try to use low sodium or home-made no sodium chicken broth so that i can use the soy for the sodium.', 'there is no sense of \"asian\" in this soup at all.', '( i would not make this without the soy. )', 'just a little bit adds the depth of flavor and even color that transforms the soup.', 'notes:\\r\\n1. if you want to make it into \"cream of\" just add some evaporated milk...delicious.', '2.  once i broke up a leftover ground sirloin burger into my soup bowl and nuked it...was that ever good.', '3. i did do this recipe with sinewy beef scraps cut from a roast once.', 'i browned the beef in the bottom of the pan, added the butter and onions and continued as written.', 'the beef added great color and flavor.', 'in this case, i threw the beef piece away, because it had too much sinew, but it was a great addition!', 'i ended up using less soy.', '4.  i have eye-ball made this soup with amounts i had in the fridge/cupboard and it was great.', \"so if you don't have that many mushrooms, make it anyway, just keep tasting it until it tastes good to you!\", \"5.  i've made it without food-processing the onions, and that worked just as well.\", 'lots of flexibility here!', \"try it, it might be the best barley mushroom soup you've ever had!\"]\n",
            "\n",
            "['i wrote this because there are an astounding lack of chocolate tea recipes on the internet.', 'the first time i heard about chocolate tea was doing a web search on chocolate.', 'there seem to be a few companies out there who sell chocolate tea.', 'i like to stay up late and had run out of coffee.', 'i was in real need for a good tasting caffene beverage.', 'i first thought chocolate tea would be yucky.', 'we are conditioned to accept chocolate with coffee as a rule but not tea.', 'i was very mistaken!', 'tea and chocolate goes very well with each other and it is also very good for your body.', 'both tea and chocolate are loaded with antioxidents.', 'you may however not want to give this to small children because of the caffene.', 'not having a recipe to follow, i created one.', '(this one) i used these ingredients because i had them on hand and it was quicker than hunting around for my pepermint extract or messing with my powered cocoa.', 'this being said, if you do want to use powered cocoa or pepermint extract instead of the ovaltine and lifesavers please do so.', 'experiment.', 'this recipe is \"opensource\" :-)\\r\\n\\r\\n you will have to adjust the sugar levels to taste.', 'if you like you can even omit the mints.', 'i used them and i find it gives the beverage that spceial something.', 'this recipe makes one large coffee cup of beverage.', 'if you use regular size coffee cups you may get two servings out of this if serving each person one serving each.', 'to serve 1 serving each to 2 or 3 people using large coffee cups, double or tripple the recipie accodingly\\r\\n\\r\\nenjoy !', 'please let me klnow if you like it!', ':-)']\n",
            "\n",
            "['the first time i made this cake i grated a million pounds of carrots on a knucklebuster.', 'then they invented cuisinarts!', 'now it is much faster to shred the carrots on a fine shredding disk and no bloody knuckles!', 'i have baked it in 8\", 9\", 9x13\" pans so if you want to experiment with pan size it works.', 'one thing i found was baking and stacking the three layers is tricky.', 'my favorite way is two 8\" pans for a nice layer cake and an 8\" square pan to put into the freezer for unexpected company.', 'i hope you try this wonderful cake.', 'update:  in the spirit of carrot cake stories, this cake was invented by a bunny named foo-foo.', \"he is very famous and even has a hit song which goes like this: sing to the tune of 'down by the station'..........     \\r\\n\\r\\n\\r\\n little bunny foo foo,\\r\\nhopping through the forest,\\r\\nscooping up the field mice,\\r\\nand boppin' 'em on the head.\", 'down came the good fairy and she said - \\r\\n\\r\\n\"little bunny foo foo,\\r\\ni don\\'t want to see you,\\r\\nscooping up the field mice,\\r\\nand boppin\\' \\'em on the head.', 'i\\'ll give you three chances,\\r\\nand if you don\\'t behave ...\\r\\ni\\'ll turn you into a goon!\"', \"the next day:\\r\\n\\r\\nlittle bunny foo foo,\\r\\nhopping through the forest,\\r\\nscooping up the field mice,\\r\\nand boppin' 'em on the head.\", 'down came the good fairy and she said:\\r\\n\\r\\n\"little bunny foo foo,\\r\\ni don\\'t want to see you.', 'scooping up the field mice.', \"and boppin' 'em on the head.\", 'i\\'ll give you two more chances,\\r\\nand if you don\\'t behave...\\r\\ni\\'ll turn you into a goon!\"', \"the next day:\\r\\n\\r\\nlittle bunny foo foo,\\r\\nhopping through the forest,\\r\\nscooping up the field mice,\\r\\nand boppin' 'em on the head.\", 'down came the good fairy and she said:\\r\\n\\r\\n\"little bunny foo foo,\\r\\ni don\\'t want to see you,\\r\\nscooping up the field mice,\\r\\nand boppin\\' \\'em on the head.', 'i\\'ll give you one more chance,\\r\\nand if you don\\'t behave..........\\r\\ni\\'ll turn you into a goon!\"', 'the next day:\\r\\n\\r\\nlittle bunny foo foo,\\r\\nhopping through the forest,\\r\\nscooping up the field mice,\\r\\nand boppin\\' \\'em on the head,\\r\\n\\r\\ndown came the good fairy and she said\\r\\n\\r\\n\"little bunny foo foo,\\r\\ni don\\'t want to see you,\\r\\nscooping up the field mice,\\r\\nand boppin\\' \\'em on the head.', \"i gave you three chances\\r\\nand you didn't behave\\r\\nnow you're a goon!\", 'poof!!\"', 'the moral of the story is:\\r\\nhare today, goon tomorrow']\n",
            "\n"
          ]
        }
      ]
    },
    {
      "cell_type": "markdown",
      "metadata": {
        "id": "P0DtCtYr9kda"
      },
      "source": [
        "8\\. Напишите функцию, которая для заданного предложения выводит информацию о частях речи слов, входящих в предложение, в следующем виде:\n",
        "```\n",
        "PRP   VBD   DT      NNS     CC   VBD      NNS        RB   \n",
        " I  omitted the raspberries and added strawberries instead\n",
        "``` \n",
        "Для определения части речи слова можно воспользоваться `nltk.pos_tag`.\n",
        "\n",
        "Проверьте работоспособность функции на названии рецепта с id 241106.\n",
        "\n",
        "Обратите внимание, что часть речи должна находиться ровно посередине над соотвествующим словом, а между самими словами должен быть ровно один пробел.\n"
      ]
    },
    {
      "cell_type": "code",
      "source": [
        "data[data['id'] == 241106]['name'].values"
      ],
      "metadata": {
        "id": "cuNvSJsigDX_",
        "colab": {
          "base_uri": "https://localhost:8080/"
        },
        "outputId": "b4ce8fb4-e8b3-413a-a8d6-e16a83dbdc5a"
      },
      "execution_count": 21,
      "outputs": [
        {
          "output_type": "execute_result",
          "data": {
            "text/plain": [
              "array(['eggplant steaks with chickpeas  feta cheese and black olives'],\n",
              "      dtype=object)"
            ]
          },
          "metadata": {},
          "execution_count": 21
        }
      ]
    },
    {
      "cell_type": "code",
      "execution_count": 22,
      "metadata": {
        "id": "ipDpCFuEsQ89",
        "colab": {
          "base_uri": "https://localhost:8080/"
        },
        "outputId": "088e8299-d8ae-44b8-e536-866b78b4c484"
      },
      "outputs": [
        {
          "output_type": "stream",
          "name": "stdout",
          "text": [
            "    JJ     NNS    IN     NNS    VBP    JJ   CC   JJ    NNS  \n",
            "eggplant steaks with chickpeas feta cheese and black olives \n"
          ]
        }
      ],
      "source": [
        "sent = 'eggplant steaks with chickpeas  feta cheese and black olives'\n",
        "def sent_tag(sent):\n",
        "  word_value = nltk.pos_tag(nltk.word_tokenize(sent))\n",
        "  up, down = '', ''\n",
        "  for i in word_value:\n",
        "    up += f' {i[1]: ^{len(i[0])}}'\n",
        "    down += i[0]+' '\n",
        "  return up+'\\n'+down\n",
        "print(sent_tag(sent))"
      ]
    }
  ],
  "metadata": {
    "kernelspec": {
      "display_name": "Python 3 (ipykernel)",
      "language": "python",
      "name": "python3"
    },
    "language_info": {
      "codemirror_mode": {
        "name": "ipython",
        "version": 3
      },
      "file_extension": ".py",
      "mimetype": "text/x-python",
      "name": "python",
      "nbconvert_exporter": "python",
      "pygments_lexer": "ipython3",
      "version": "3.9.7"
    },
    "colab": {
      "provenance": []
    }
  },
  "nbformat": 4,
  "nbformat_minor": 0
}